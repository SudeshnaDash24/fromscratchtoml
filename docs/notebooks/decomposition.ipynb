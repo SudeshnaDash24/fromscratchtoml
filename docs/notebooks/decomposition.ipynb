{
 "cells": [
  {
   "cell_type": "code",
   "execution_count": 1,
   "metadata": {},
   "outputs": [],
   "source": [
    "from fromscratchtoml.decomposition import Decomposition\n",
    "from fromscratchtoml.toolbox import binary_visualize\n",
    "import torch as ch\n",
    "\n",
    "from sklearn.decomposition import PCA\n",
    "import numpy as np\n",
    "%matplotlib inline"
   ]
  },
  {
   "cell_type": "code",
   "execution_count": 2,
   "metadata": {},
   "outputs": [
    {
     "name": "stdout",
     "output_type": "stream",
     "text": [
      "\n",
      "  0.0000   2.0000  -0.5000\n",
      "  1.0000   7.0000  -9.0000\n",
      "  2.0000  12.0000 -17.5000\n",
      "  3.0000  17.0000 -26.0000\n",
      "  4.0000  22.0000 -34.5000\n",
      "[torch.FloatTensor of size 5x3]\n",
      "\n"
     ]
    }
   ],
   "source": [
    "n = 5\n",
    "n_dim = 3\n",
    "\n",
    "X = ch.zeros(n, n_dim)\n",
    "if n_dim==3:\n",
    "    m = 5\n",
    "    c = 2\n",
    "    d = 5\n",
    "    for i in range(n):\n",
    "        X[i,0] = i\n",
    "        X[i,1] = m*i + c\n",
    "#         X[i,1] = np.sqrt(i)\n",
    "        X[i,2] = (d - 2*X[i,0] - 3*X[i,1])/2\n",
    "\n",
    "elif n_dim==2:\n",
    "    for i in range(n):\n",
    "        X[i,0] = i\n",
    "        X[i,1] = 2*i\n",
    "\n",
    "print(X)"
   ]
  },
  {
   "cell_type": "code",
   "execution_count": 3,
   "metadata": {},
   "outputs": [],
   "source": [
    "# X = ch.zeros(4, 2)\n",
    "# X[0,0] = 2\n",
    "# X[0,1] = 4\n",
    "# X[1,0] = 1\n",
    "# X[1,1] = 3\n",
    "# X[2,0] = 0\n",
    "# X[2,1] = 0\n",
    "# X[3,0] = 0\n",
    "# X[3,1] = 0\n",
    "\n",
    "# X = ch.zeros(2, 2)\n",
    "# X[0,0] = 4\n",
    "# X[0,1] = 0\n",
    "# X[1,0] = 3\n",
    "# X[1,1] = -5\n",
    "\n",
    "# X = ch.zeros(2, 3)\n",
    "# X[0,0] = 2\n",
    "# X[0,1] = -2\n",
    "# X[0,2] = 1\n",
    "# X[1,0] = 5\n",
    "# X[1,1] = 1\n",
    "# X[1,2] = 4"
   ]
  },
  {
   "cell_type": "code",
   "execution_count": 4,
   "metadata": {},
   "outputs": [],
   "source": [
    "r_x, evals, evecs = Decomposition.pca(X - X.mean(dim=0))"
   ]
  },
  {
   "cell_type": "code",
   "execution_count": 5,
   "metadata": {},
   "outputs": [
    {
     "data": {
      "image/png": "[encoded data removed]",
      "text/plain": [
       "<matplotlib.figure.Figure at 0x7f419e5773d0>"
      ]
     },
     "metadata": {},
     "output_type": "display_data"
    }
   ],
   "source": [
    "binary_visualize(X)"
   ]
  },
  {
   "cell_type": "code",
   "execution_count": 6,
   "metadata": {},
   "outputs": [
    {
     "data": {
      "image/png": "[encoded data removed]",
      "text/plain": [
       "<matplotlib.figure.Figure at 0x7f419c4a8750>"
      ]
     },
     "metadata": {},
     "output_type": "display_data"
    }
   ],
   "source": [
    "binary_visualize(ch.stack((r_x[...,0], r_x[...,1]), 1))"
   ]
  },
  {
   "cell_type": "code",
   "execution_count": 7,
   "metadata": {},
   "outputs": [
    {
     "data": {
      "image/png": "[encoded data removed]",
      "text/plain": [
       "<matplotlib.figure.Figure at 0x7f419c3efa10>"
      ]
     },
     "metadata": {},
     "output_type": "display_data"
    }
   ],
   "source": [
    "binary_visualize(ch.stack((r_x[...,0], r_x[...,2]), 1))"
   ]
  },
  {
   "cell_type": "code",
   "execution_count": 8,
   "metadata": {},
   "outputs": [
    {
     "data": {
      "image/png": "[encoded data removed]",
      "text/plain": [
       "<matplotlib.figure.Figure at 0x7f419c363350>"
      ]
     },
     "metadata": {},
     "output_type": "display_data"
    }
   ],
   "source": [
    "binary_visualize(ch.stack((r_x[...,1], r_x[...,2]), 1))"
   ]
  },
  {
   "cell_type": "code",
   "execution_count": 9,
   "metadata": {},
   "outputs": [],
   "source": [
    "X = X.numpy()"
   ]
  },
  {
   "cell_type": "code",
   "execution_count": 10,
   "metadata": {},
   "outputs": [
    {
     "name": "stdout",
     "output_type": "stream",
     "text": [
      "[[ 1.9824228e+01 -1.9073486e-06  1.1920929e-07]\n",
      " [ 9.9121141e+00 -9.5367432e-07  5.9604645e-08]\n",
      " [ 0.0000000e+00  0.0000000e+00  0.0000000e+00]\n",
      " [-9.9121141e+00  9.5367432e-07 -5.9604645e-08]\n",
      " [-1.9824228e+01  1.9073486e-06 -1.1920929e-07]]\n"
     ]
    }
   ],
   "source": [
    "pca = PCA(n_components=X.shape[1])\n",
    "pca.fit(X)\n",
    "skl_x = pca.transform(X)\n",
    "print(skl_x)"
   ]
  },
  {
   "cell_type": "code",
   "execution_count": 11,
   "metadata": {},
   "outputs": [
    {
     "data": {
      "text/plain": [
       "\n",
       "-19.8242   0.0000   0.0000\n",
       " -9.9121   0.0000   0.0000\n",
       "  0.0000   0.0000   0.0000\n",
       "  9.9121   0.0000   0.0000\n",
       " 19.8242   0.0000   0.0000\n",
       "[torch.FloatTensor of size 5x3]"
      ]
     },
     "execution_count": 11,
     "metadata": {},
     "output_type": "execute_result"
    }
   ],
   "source": [
    "r_x"
   ]
  },
  {
   "cell_type": "code",
   "execution_count": 12,
   "metadata": {},
   "outputs": [
    {
     "name": "stdout",
     "output_type": "stream",
     "text": [
      "[[-2.3841858e-07  1.9999981e+00 -5.0000000e-01]\n",
      " [ 9.9999988e-01  6.9999990e+00 -9.0000000e+00]\n",
      " [ 2.0000000e+00  1.2000000e+01 -1.7500000e+01]\n",
      " [ 3.0000000e+00  1.7000000e+01 -2.6000000e+01]\n",
      " [ 4.0000000e+00  2.2000002e+01 -3.4500000e+01]]\n",
      "\n",
      "[[  0.          2.000001   -0.5000019]\n",
      " [  1.          7.0000005  -9.000001 ]\n",
      " [  2.         12.        -17.5      ]\n",
      " [  3.         17.        -26.       ]\n",
      " [  4.         22.        -34.5      ]]\n"
     ]
    }
   ],
   "source": [
    "skl_reconstructed_x = np.dot(skl_x, pca.components_) + X.mean(axis=0)\n",
    "reconstructed_x = np.dot(r_x, evecs) + X.mean(axis=0)\n",
    "print(skl_reconstructed_x)\n",
    "print(\"\")\n",
    "print(reconstructed_x)"
   ]
  },
  {
   "cell_type": "code",
   "execution_count": 13,
   "metadata": {},
   "outputs": [
    {
     "data": {
      "text/plain": [
       "array([[  0. ,   2. ,  -0.5],\n",
       "       [  1. ,   7. ,  -9. ],\n",
       "       [  2. ,  12. , -17.5],\n",
       "       [  3. ,  17. , -26. ],\n",
       "       [  4. ,  22. , -34.5]], dtype=float32)"
      ]
     },
     "execution_count": 13,
     "metadata": {},
     "output_type": "execute_result"
    }
   ],
   "source": [
    "X"
   ]
  },
  {
   "cell_type": "code",
   "execution_count": 14,
   "metadata": {},
   "outputs": [
    {
     "data": {
      "text/plain": [
       "\n",
       " 0.1009  0.5044 -0.8575\n",
       "-0.0589  0.8635  0.5010\n",
       "-0.9932  0.0000 -0.1168\n",
       "[torch.FloatTensor of size 3x3]"
      ]
     },
     "execution_count": 14,
     "metadata": {},
     "output_type": "execute_result"
    }
   ],
   "source": [
    "evecs"
   ]
  },
  {
   "cell_type": "code",
   "execution_count": 15,
   "metadata": {},
   "outputs": [
    {
     "data": {
      "text/plain": [
       "array([[-1.0088666e-01, -5.0443327e-01,  8.5753661e-01],\n",
       "       [-5.8938619e-02,  8.6345071e-01,  5.0097811e-01],\n",
       "       [-9.9315059e-01, -7.4505806e-09, -1.1684125e-01]], dtype=float32)"
      ]
     },
     "execution_count": 15,
     "metadata": {},
     "output_type": "execute_result"
    }
   ],
   "source": [
    "pca.components_"
   ]
  }
 ],
 "metadata": {
  "kernelspec": {
   "display_name": "Python 2",
   "language": "python",
   "name": "python2"
  },
  "language_info": {
   "codemirror_mode": {
    "name": "ipython",
    "version": 2
   },
   "file_extension": ".py",
   "mimetype": "text/x-python",
   "name": "python",
   "nbconvert_exporter": "python",
   "pygments_lexer": "ipython2",
   "version": "2.7.12"
  }
 },
 "nbformat": 4,
 "nbformat_minor": 2
}
