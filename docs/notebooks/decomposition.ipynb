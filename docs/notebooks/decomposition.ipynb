{
 "cells": [
  {
   "cell_type": "code",
   "execution_count": 1,
   "metadata": {
    "collapsed": true
   },
   "outputs": [],
   "source": [
    "from fromscratchtoml.decomposition import Decomposition\n",
    "from fromscratchtoml.toolbox import binary_visualize\n",
    "\n",
    "from sklearn.decomposition import PCA\n",
    "import numpy as np\n",
    "%matplotlib inline"
   ]
  },
  {
   "cell_type": "code",
   "execution_count": 2,
   "metadata": {},
   "outputs": [
    {
     "name": "stdout",
     "output_type": "stream",
     "text": [
      "[[  0.    2.   -0.5]\n",
      " [  1.    7.   -9. ]\n",
      " [  2.   12.  -17.5]\n",
      " [  3.   17.  -26. ]\n",
      " [  4.   22.  -34.5]]\n",
      "[ 0.   2.  -0.5]\n"
     ]
    }
   ],
   "source": [
    "n = 5\n",
    "n_dim = 3\n",
    "nc = 3\n",
    "\n",
    "X = np.zeros([n, n_dim])\n",
    "if n_dim==3:\n",
    "    m = 5\n",
    "    c = 2\n",
    "    d = 5\n",
    "    for i in range(n):\n",
    "        X[i,0] = i\n",
    "        X[i,1] = m*i + c\n",
    "#         X[i,1] = np.sqrt(i)\n",
    "        X[i,2] = (d - 2*X[i,0] - 3*X[i,1])/2\n",
    "\n",
    "elif n_dim==2:\n",
    "    for i in range(n):\n",
    "        X[i,0] = i\n",
    "        X[i,1] = 2*i\n",
    "\n",
    "print(X)\n",
    "print(X[0])"
   ]
  },
  {
   "cell_type": "code",
   "execution_count": 3,
   "metadata": {
    "collapsed": true
   },
   "outputs": [],
   "source": [
    "# X = np.zeros([4, 2])\n",
    "# X[0,0] = 2\n",
    "# X[0,1] = 4\n",
    "# X[1,0] = 1\n",
    "# X[1,1] = 3\n",
    "# X[2,0] = 0\n",
    "# X[2,1] = 0\n",
    "# X[3,0] = 0\n",
    "# X[3,1] = 0\n",
    "\n",
    "# X = ch.zeros([2, 2])\n",
    "# X[0,0] = 4\n",
    "# X[0,1] = 0\n",
    "# X[1,0] = 3\n",
    "# X[1,1] = -5\n",
    "\n",
    "# X = np.zeros([2, 3])\n",
    "# X[0,0] = 2\n",
    "# X[0,1] = -2\n",
    "# X[0,2] = 1\n",
    "# X[1,0] = 5\n",
    "# X[1,1] = 1\n",
    "# X[1,2] = 4"
   ]
  },
  {
   "cell_type": "code",
   "execution_count": 4,
   "metadata": {},
   "outputs": [],
   "source": [
    "r_x, evals, evecs = Decomposition.pca(X - X.mean(0))"
   ]
  },
  {
   "cell_type": "code",
   "execution_count": 5,
   "metadata": {},
   "outputs": [],
   "source": [
    "# binary_visualize(X)"
   ]
  },
  {
   "cell_type": "code",
   "execution_count": 6,
   "metadata": {},
   "outputs": [],
   "source": [
    "# binary_visualize(ch.stack((r_x[...,0], r_x[...,1]), 1))"
   ]
  },
  {
   "cell_type": "code",
   "execution_count": 7,
   "metadata": {},
   "outputs": [],
   "source": [
    "# binary_visualize(ch.stack((r_x[...,0], r_x[...,2]), 1))"
   ]
  },
  {
   "cell_type": "code",
   "execution_count": 8,
   "metadata": {},
   "outputs": [],
   "source": [
    "# binary_visualize(ch.stack((r_x[...,1], r_x[...,2]), 1))"
   ]
  },
  {
   "cell_type": "code",
   "execution_count": 9,
   "metadata": {
    "collapsed": true
   },
   "outputs": [],
   "source": [
    "# X = X.numpy()"
   ]
  },
  {
   "cell_type": "code",
   "execution_count": 10,
   "metadata": {},
   "outputs": [
    {
     "name": "stdout",
     "output_type": "stream",
     "text": [
      "[[ 1.98242276e+01  3.66373598e-15 -4.55191440e-15]\n",
      " [ 9.91211380e+00  1.83186799e-15 -2.27595720e-15]\n",
      " [ 0.00000000e+00  0.00000000e+00  0.00000000e+00]\n",
      " [-9.91211380e+00 -1.83186799e-15  2.27595720e-15]\n",
      " [-1.98242276e+01 -3.66373598e-15  4.55191440e-15]]\n"
     ]
    }
   ],
   "source": [
    "pca = PCA(n_components=X.shape[1])\n",
    "pca.fit(X)\n",
    "skl_x = pca.transform(X)\n",
    "print(skl_x)"
   ]
  },
  {
   "cell_type": "code",
   "execution_count": 11,
   "metadata": {},
   "outputs": [
    {
     "data": {
      "text/plain": [
       "array([[  6.81298774, -18.55212225,   1.54982524],\n",
       "       [  3.40649387,  -9.27606112,   0.77491262],\n",
       "       [  0.        ,   0.        ,   0.        ],\n",
       "       [ -3.40649387,   9.27606112,  -0.77491262],\n",
       "       [ -6.81298774,  18.55212225,  -1.54982524]])"
      ]
     },
     "execution_count": 11,
     "metadata": {},
     "output_type": "execute_result"
    }
   ],
   "source": [
    "r_x"
   ]
  },
  {
   "cell_type": "code",
   "execution_count": 12,
   "metadata": {},
   "outputs": [
    {
     "name": "stdout",
     "output_type": "stream",
     "text": [
      "[[-4.4408921e-16  2.0000000e+00 -5.0000000e-01]\n",
      " [ 1.0000000e+00  7.0000000e+00 -9.0000000e+00]\n",
      " [ 2.0000000e+00  1.2000000e+01 -1.7500000e+01]\n",
      " [ 3.0000000e+00  1.7000000e+01 -2.6000000e+01]\n",
      " [ 4.0000000e+00  2.2000000e+01 -3.4500000e+01]]\n",
      "\n",
      "[[  6.60769734   4.48995107   0.25861172]\n",
      " [  4.30384867   8.24497553  -8.62069414]\n",
      " [  2.          12.         -17.5       ]\n",
      " [ -0.30384867  15.75502447 -26.37930586]\n",
      " [ -2.60769734  19.51004893 -35.25861172]]\n"
     ]
    }
   ],
   "source": [
    "skl_reconstructed_x = np.dot(skl_x, pca.components_) + X.mean(axis=0)\n",
    "reconstructed_x = np.dot(r_x, evecs) + X.mean(axis=0)\n",
    "print(skl_reconstructed_x)\n",
    "print(\"\")\n",
    "print(reconstructed_x)"
   ]
  },
  {
   "cell_type": "code",
   "execution_count": 13,
   "metadata": {},
   "outputs": [
    {
     "data": {
      "text/plain": [
       "array([[  0. ,   2. ,  -0.5],\n",
       "       [  1. ,   7. ,  -9. ],\n",
       "       [  2. ,  12. , -17.5],\n",
       "       [  3. ,  17. , -26. ],\n",
       "       [  4. ,  22. , -34.5]])"
      ]
     },
     "execution_count": 13,
     "metadata": {},
     "output_type": "execute_result"
    }
   ],
   "source": [
    "X"
   ]
  },
  {
   "cell_type": "code",
   "execution_count": 14,
   "metadata": {},
   "outputs": [
    {
     "data": {
      "text/plain": [
       "array([[ 0.82430398,  0.10088665,  0.55708601],\n",
       "       [ 0.44025326,  0.50443327, -0.74278135],\n",
       "       [ 0.35594945, -0.85753656, -0.37139068]])"
      ]
     },
     "execution_count": 14,
     "metadata": {},
     "output_type": "execute_result"
    }
   ],
   "source": [
    "evecs.T"
   ]
  },
  {
   "cell_type": "code",
   "execution_count": 15,
   "metadata": {},
   "outputs": [
    {
     "data": {
      "text/plain": [
       "array([[-0.10088665, -0.50443327,  0.85753656],\n",
       "       [-0.82430398, -0.44025326, -0.35594945],\n",
       "       [-0.55708601,  0.74278135,  0.37139068]])"
      ]
     },
     "execution_count": 15,
     "metadata": {},
     "output_type": "execute_result"
    }
   ],
   "source": [
    "pca.components_"
   ]
  },
  {
   "cell_type": "code",
   "execution_count": 16,
   "metadata": {},
   "outputs": [
    {
     "name": "stdout",
     "output_type": "stream",
     "text": [
      "[[  0.    2.   -0.5]\n",
      " [  1.    7.   -9. ]\n",
      " [  2.   12.  -17.5]\n",
      " [  3.   17.  -26. ]\n",
      " [  4.   22.  -34.5]]\n"
     ]
    }
   ],
   "source": [
    "print(X)"
   ]
  },
  {
   "cell_type": "code",
   "execution_count": null,
   "metadata": {
    "collapsed": true
   },
   "outputs": [],
   "source": []
  },
  {
   "cell_type": "code",
   "execution_count": null,
   "metadata": {
    "collapsed": true
   },
   "outputs": [],
   "source": []
  }
 ],
 "metadata": {
  "kernelspec": {
   "display_name": "Python 2",
   "language": "python",
   "name": "python2"
  },
  "language_info": {
   "codemirror_mode": {
    "name": "ipython",
    "version": 2
   },
   "file_extension": ".py",
   "mimetype": "text/x-python",
   "name": "python",
   "nbconvert_exporter": "python",
   "pygments_lexer": "ipython2",
   "version": "2.7.14"
  }
 },
 "nbformat": 4,
 "nbformat_minor": 2
}
