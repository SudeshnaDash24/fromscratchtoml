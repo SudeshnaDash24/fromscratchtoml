{
 "cells": [
  {
   "cell_type": "code",
   "execution_count": 1,
   "metadata": {},
   "outputs": [],
   "source": [
    "from fromscratchtoml.neural_network.models import Sequential\n",
    "from fromscratchtoml.neural_network.optimizers import StochasticGradientDescent\n",
    "from fromscratchtoml.neural_network.layers import Dense, Activation\n",
    "\n",
    "import numpy as np\n",
    "from sklearn.model_selection import train_test_split\n",
    "\n",
    "from fromscratchtoml.toolbox.random import Distribution\n",
    "from fromscratchtoml.toolbox.preprocess import to_onehot"
   ]
  },
  {
   "cell_type": "code",
   "execution_count": 28,
   "metadata": {},
   "outputs": [],
   "source": [
    "from sklearn import datasets\n",
    "from sklearn.utils import shuffle\n",
    "\n",
    "from fromscratchtoml.toolbox import binary_visualize\n",
    "\n",
    "import matplotlib.pyplot as plt\n",
    "%matplotlib inline"
   ]
  },
  {
   "cell_type": "markdown",
   "metadata": {},
   "source": [
    "# Neural Networks"
   ]
  },
  {
   "cell_type": "markdown",
   "metadata": {},
   "source": [
    "## Fitting a XOR gate"
   ]
  },
  {
   "cell_type": "code",
   "execution_count": 3,
   "metadata": {},
   "outputs": [],
   "source": [
    "model1 = Sequential()\n",
    "model1.add(Dense(5, input_dim=2, seed=1))\n",
    "model1.add(Activation('sigmoid'))\n",
    "model1.add(Dense(5, seed=2))\n",
    "model1.add(Activation('sigmoid'))\n",
    "model1.add(Dense(2, seed=3))\n",
    "sgd = StochasticGradientDescent(learning_rate=0.1)\n",
    "model1.compile(optimizer=sgd, loss=\"mean_squared_error\")"
   ]
  },
  {
   "cell_type": "code",
   "execution_count": 4,
   "metadata": {},
   "outputs": [
    {
     "data": {
      "text/plain": [
       "array([[1, 0],\n",
       "       [0, 1],\n",
       "       [0, 1],\n",
       "       [1, 0]])"
      ]
     },
     "execution_count": 4,
     "metadata": {},
     "output_type": "execute_result"
    }
   ],
   "source": [
    "X1 = np.array([[0, 0],[0, 1],[1, 0], [1, 1]])\n",
    "y1 = np.array([[1,0], [0,1], [0,1], [1,0]])\n",
    "y1"
   ]
  },
  {
   "cell_type": "code",
   "execution_count": 5,
   "metadata": {},
   "outputs": [
    {
     "name": "stdout",
     "output_type": "stream",
     "text": [
      "[███████████████████████████████████████ ] 99% \n",
      "epoch: 100/100  acc: 100.00  loss: 0.000 \n",
      "[████████████████████████████████████████] 100% CPU times: user 103 ms, sys: 12.6 ms, total: 115 ms\n",
      "Wall time: 169 ms\n"
     ]
    }
   ],
   "source": [
    "%time model1.fit(X1, y1, batch_size=4, epochs=100)"
   ]
  },
  {
   "cell_type": "code",
   "execution_count": 6,
   "metadata": {},
   "outputs": [
    {
     "data": {
      "text/plain": [
       "array([[1.346127  , 2.11858538]])"
      ]
     },
     "execution_count": 6,
     "metadata": {},
     "output_type": "execute_result"
    }
   ],
   "source": [
    "model1.layers[-1].biases"
   ]
  },
  {
   "cell_type": "code",
   "execution_count": 7,
   "metadata": {},
   "outputs": [
    {
     "data": {
      "text/plain": [
       "array([[-1.13710606, -0.4548632 ],\n",
       "       [-0.46534801, -2.15876972],\n",
       "       [-0.88261708, -0.40209691],\n",
       "       [ 1.06302935,  0.20252469],\n",
       "       [-1.55501902,  0.83763579]])"
      ]
     },
     "execution_count": 7,
     "metadata": {},
     "output_type": "execute_result"
    }
   ],
   "source": [
    "model1.layers[-1].weights"
   ]
  },
  {
   "cell_type": "code",
   "execution_count": 8,
   "metadata": {
    "scrolled": true
   },
   "outputs": [
    {
     "data": {
      "text/plain": [
       "array([[1., 0.],\n",
       "       [0., 1.],\n",
       "       [0., 1.],\n",
       "       [1., 0.]])"
      ]
     },
     "execution_count": 8,
     "metadata": {},
     "output_type": "execute_result"
    }
   ],
   "source": [
    "model1.predict(X1, one_hot=True)"
   ]
  },
  {
   "cell_type": "code",
   "execution_count": 9,
   "metadata": {},
   "outputs": [
    {
     "data": {
      "image/png": "[encoded data removed]",
      "text/plain": [
       "<Figure size 432x288 with 1 Axes>"
      ]
     },
     "metadata": {},
     "output_type": "display_data"
    }
   ],
   "source": [
    "binary_visualize(X1, clf=model1, draw_contour=True)"
   ]
  },
  {
   "cell_type": "markdown",
   "metadata": {},
   "source": [
    "## MNIST Digit Classification"
   ]
  },
  {
   "cell_type": "code",
   "execution_count": 12,
   "metadata": {},
   "outputs": [
    {
     "name": "stdout",
     "output_type": "stream",
     "text": [
      "70000\n"
     ]
    }
   ],
   "source": [
    "from sklearn.datasets import fetch_mldata\n",
    "from skimage.color import gray2rgb, rgb2gray, label2rgb\n",
    "\n",
    "mnist = fetch_mldata('MNIST original', data_home=\".\")\n",
    "print(len(mnist.data))\n",
    "X2 = mnist.data/256."
   ]
  },
  {
   "cell_type": "code",
   "execution_count": 13,
   "metadata": {},
   "outputs": [],
   "source": [
    "X2 = np.stack([gray2rgb(iimg) for iimg in mnist.data.reshape((-1, 28, 28))],0)\n",
    "y2 = mnist.target.astype(np.uint8)"
   ]
  },
  {
   "cell_type": "code",
   "execution_count": 14,
   "metadata": {},
   "outputs": [],
   "source": [
    "makegray_step = lambda img_list: [rgb2gray(img) for img in img_list]\n",
    "flatten_step = lambda img_list: [img.ravel() for img in img_list]"
   ]
  },
  {
   "cell_type": "code",
   "execution_count": 15,
   "metadata": {},
   "outputs": [],
   "source": [
    "def lime_wrapper(x, one_hot=1):\n",
    "    x = makegray_step(x)\n",
    "    x = flatten_step(x)\n",
    "    return model2.predict(x, one_hot=one_hot)"
   ]
  },
  {
   "cell_type": "code",
   "execution_count": 16,
   "metadata": {},
   "outputs": [
    {
     "data": {
      "text/plain": [
       "((10000, 28, 28, 3), (10000,))"
      ]
     },
     "execution_count": 16,
     "metadata": {},
     "output_type": "execute_result"
    }
   ],
   "source": [
    "X_train2, X_test2, y_train2, y_test2 = train_test_split(X2, y2, test_size=60000, random_state=42)\n",
    "X_train2.shape, y_train2.shape"
   ]
  },
  {
   "cell_type": "code",
   "execution_count": 17,
   "metadata": {},
   "outputs": [],
   "source": [
    "model2 = Sequential(verbose=True)\n",
    "model2.add(Dense(30, input_dim=784, seed=10))\n",
    "model2.add(Activation('sigmoid'))\n",
    "model2.add(Dense(10, seed=10))\n",
    "model2.add(Activation('sigmoid'))\n",
    "sgd = StochasticGradientDescent(learning_rate=1)\n",
    "model2.compile(optimizer=sgd, loss=\"mean_squared_error\")"
   ]
  },
  {
   "cell_type": "code",
   "execution_count": 19,
   "metadata": {},
   "outputs": [
    {
     "name": "stdout",
     "output_type": "stream",
     "text": [
      "\n",
      "epoch: 1/5  acc: 83.62  loss: 0.033 \n",
      "[████████                                ] 20% \n",
      "epoch: 2/5  acc: 89.12  loss: 0.022 \n",
      "[████████████████                        ] 40% \n",
      "epoch: 3/5  acc: 90.61  loss: 0.019 \n",
      "[████████████████████████                ] 60% \n",
      "epoch: 4/5  acc: 91.02  loss: 0.018 \n",
      "[████████████████████████████████        ] 80% \n",
      "epoch: 5/5  acc: 91.99  loss: 0.016 \n",
      "[████████████████████████████████████████] 100% CPU times: user 27.9 s, sys: 549 ms, total: 28.4 s\n",
      "Wall time: 27.8 s\n"
     ]
    }
   ],
   "source": [
    "%time model2.fit(np.array(flatten_step(makegray_step(X_train2))), to_onehot(y_train2), batch_size=10, epochs=5)"
   ]
  },
  {
   "cell_type": "code",
   "execution_count": 20,
   "metadata": {},
   "outputs": [
    {
     "data": {
      "text/plain": [
       "90.18166666666667"
      ]
     },
     "execution_count": 20,
     "metadata": {},
     "output_type": "execute_result"
    }
   ],
   "source": [
    "model2.accuracy(np.array(flatten_step(makegray_step(X_test2))), to_onehot(y_test2))"
   ]
  },
  {
   "cell_type": "markdown",
   "metadata": {},
   "source": [
    "## Explaining predictions with LIME."
   ]
  },
  {
   "cell_type": "code",
   "execution_count": 21,
   "metadata": {},
   "outputs": [],
   "source": [
    "from lime import lime_image\n",
    "from lime.wrappers.scikit_image import SegmentationAlgorithm\n",
    "explainer = lime_image.LimeImageExplainer(verbose = False)\n",
    "segmenter = SegmentationAlgorithm('quickshift', kernel_size=1, max_dist=20, ratio=0.2)"
   ]
  },
  {
   "cell_type": "code",
   "execution_count": 38,
   "metadata": {},
   "outputs": [
    {
     "name": "stdout",
     "output_type": "stream",
     "text": [
      "CPU times: user 34.9 ms, sys: 394 µs, total: 35.3 ms\n",
      "Wall time: 33.2 ms\n"
     ]
    }
   ],
   "source": [
    "%%time\n",
    "explanation = explainer.explain_instance(X_test2[10], \n",
    "                                         classifier_fn = lime_wrapper, \n",
    "                                         top_labels=10, hide_color=0, num_samples=10, segmentation_fn=segmenter)"
   ]
  },
  {
   "cell_type": "code",
   "execution_count": null,
   "metadata": {},
   "outputs": [],
   "source": []
  },
  {
   "cell_type": "code",
   "execution_count": 39,
   "metadata": {},
   "outputs": [
    {
     "data": {
      "text/plain": [
       "Text(0.5,1,'Positive/Negative Regions for 4')"
      ]
     },
     "execution_count": 39,
     "metadata": {},
     "output_type": "execute_result"
    },
    {
     "data": {
      "image/png": "[encoded data removed]",
      "text/plain": [
       "<Figure size 576x288 with 2 Axes>"
      ]
     },
     "metadata": {},
     "output_type": "display_data"
    }
   ],
   "source": [
    "temp, mask = explanation.get_image_and_mask(y_test2[10], positive_only=True, num_features=10, hide_rest=False, min_weight = 0.01)\n",
    "fig, (ax1, ax2) = plt.subplots(1,2, figsize = (8, 4))\n",
    "ax1.imshow(label2rgb(mask,temp, bg_label = 0), interpolation = 'nearest')\n",
    "ax1.set_title('Positive Regions for {}'.format(y_test2[10]))\n",
    "temp, mask = explanation.get_image_and_mask(y_test2[10], positive_only=False, num_features=10, hide_rest=False, min_weight = 0.01)\n",
    "ax2.imshow(label2rgb(3-mask,temp, bg_label = 0), interpolation = 'nearest')\n",
    "ax2.set_title('Positive/Negative Regions for {}'.format(y_test2[10]))"
   ]
  },
  {
   "cell_type": "code",
   "execution_count": 36,
   "metadata": {},
   "outputs": [
    {
     "data": {
      "image/png": "[encoded data removed]",
      "text/plain": [
       "<Figure size 864x432 with 10 Axes>"
      ]
     },
     "metadata": {},
     "output_type": "display_data"
    }
   ],
   "source": [
    "# now show them for each class\n",
    "fig, m_axs = plt.subplots(2,5, figsize = (12,6))\n",
    "ind = 781\n",
    "\n",
    "explanation = explainer.explain_instance(X_test2[ind], \n",
    "                                         classifier_fn = lime_wrapper, \n",
    "                                         top_labels=10, hide_color=0, num_samples=10, segmentation_fn=segmenter)\n",
    "\n",
    "for i, c_ax in enumerate(m_axs.flatten()):\n",
    "    temp, mask = explanation.get_image_and_mask(i, positive_only=True, num_features=1000, hide_rest=False, min_weight = 0.01 )\n",
    "    c_ax.imshow(label2rgb(mask,X_test2[ind], bg_label = 0), interpolation = 'nearest')\n",
    "    c_ax.set_title('Positive for {}\\nPredicted {}'.format(i, lime_wrapper([X_test2[ind]], one_hot=0)[0]))\n",
    "    c_ax.axis('off')"
   ]
  },
  {
   "cell_type": "code",
   "execution_count": null,
   "metadata": {},
   "outputs": [],
   "source": []
  },
  {
   "cell_type": "markdown",
   "metadata": {},
   "source": [
    "## Training a single perceptron"
   ]
  },
  {
   "cell_type": "code",
   "execution_count": null,
   "metadata": {},
   "outputs": [],
   "source": [
    "model3 = Sequential()\n",
    "model3.add(Dense(1, input_dim=1, seed=10))\n",
    "model3.add(Activation('sigmoid'))\n",
    "sgd = StochasticGradientDescent(learning_rate=0.5)\n",
    "model3.compile(optimizer=sgd, loss=\"mean_squared_error\")"
   ]
  },
  {
   "cell_type": "code",
   "execution_count": null,
   "metadata": {},
   "outputs": [],
   "source": [
    "X3 = np.array([1])\n",
    "y3 = np.array([0.2])"
   ]
  },
  {
   "cell_type": "code",
   "execution_count": null,
   "metadata": {},
   "outputs": [],
   "source": [
    "%time model3.fit(X3, y3, epochs=200)"
   ]
  },
  {
   "cell_type": "code",
   "execution_count": null,
   "metadata": {},
   "outputs": [],
   "source": [
    "model3.forwardpass(X3)"
   ]
  },
  {
   "cell_type": "markdown",
   "metadata": {},
   "source": [
    "## Iris Dataset"
   ]
  },
  {
   "cell_type": "code",
   "execution_count": null,
   "metadata": {},
   "outputs": [],
   "source": [
    "iris = datasets.load_iris()\n",
    "\n",
    "X4 = iris.data[:, :2]\n",
    "Y4 = to_onehot(iris.target[:])\n",
    "X4, Y4 = shuffle(X4, Y4, random_state=10)\n",
    "\n",
    "Xtrain4 = X4[:120]\n",
    "Ytrain4 = Y4[:120]\n",
    "Xtest4 = X4[120:]\n",
    "Ytest4 = Y4[120:]"
   ]
  },
  {
   "cell_type": "code",
   "execution_count": null,
   "metadata": {},
   "outputs": [],
   "source": [
    "model4 = Sequential()\n",
    "model4.add(Dense(5, input_dim=2, seed=1))\n",
    "model4.add(Activation('sigmoid'))\n",
    "model4.add(Dense(3, seed=2))\n",
    "model4.add(Activation('sigmoid'))\n",
    "sgd = StochasticGradientDescent(learning_rate=0.1)\n",
    "model4.compile(optimizer=sgd, loss=\"mean_squared_error\")"
   ]
  },
  {
   "cell_type": "code",
   "execution_count": null,
   "metadata": {
    "scrolled": false
   },
   "outputs": [],
   "source": [
    "%time model4.fit(Xtrain4, Ytrain4, epochs=100)"
   ]
  },
  {
   "cell_type": "code",
   "execution_count": null,
   "metadata": {},
   "outputs": [],
   "source": [
    "model4.predict(Xtrain4[:5], one_hot=True), Ytest4[:5]"
   ]
  },
  {
   "cell_type": "code",
   "execution_count": null,
   "metadata": {},
   "outputs": [],
   "source": [
    "binary_visualize(Xtest4, clf=model4, draw_contour=True)"
   ]
  },
  {
   "cell_type": "code",
   "execution_count": null,
   "metadata": {},
   "outputs": [],
   "source": [
    "binary_visualize(Xtest4, Ytest4)"
   ]
  },
  {
   "cell_type": "markdown",
   "metadata": {},
   "source": [
    "## Radial"
   ]
  },
  {
   "cell_type": "code",
   "execution_count": null,
   "metadata": {},
   "outputs": [],
   "source": [
    "X11 = Distribution.radial_binary(pts=300,\n",
    "               mean=[0, 0],\n",
    "               st=1,\n",
    "               ed=2, seed=20)\n",
    "X22 = Distribution.radial_binary(pts=300,\n",
    "               mean=[0, 0],\n",
    "               st=4,\n",
    "               ed=5, seed=20)\n",
    "\n",
    "Y11 = np.ones(X11.shape[0])\n",
    "Y22 = np.zeros(X11.shape[0])\n",
    "\n",
    "X5 = np.vstack((X11, X22))\n",
    "y5 = np.hstack((Y11, Y22))"
   ]
  },
  {
   "cell_type": "code",
   "execution_count": null,
   "metadata": {},
   "outputs": [],
   "source": [
    "y5 = to_onehot(y5)"
   ]
  },
  {
   "cell_type": "code",
   "execution_count": null,
   "metadata": {},
   "outputs": [],
   "source": [
    "X_train5, X_test5, y_train5, y_test5 = train_test_split(X5, y5, test_size=50, random_state=42)"
   ]
  },
  {
   "cell_type": "code",
   "execution_count": null,
   "metadata": {},
   "outputs": [],
   "source": [
    "y_train5.shape"
   ]
  },
  {
   "cell_type": "code",
   "execution_count": null,
   "metadata": {},
   "outputs": [],
   "source": [
    "model5 = Sequential(verbose=1, vis_each_epoch=True)\n",
    "model5.add(Dense(10, input_dim=2, seed=1))\n",
    "model5.add(Activation('sigmoid'))\n",
    "model5.add(Dense(2, seed=2))\n",
    "model5.add(Activation('sigmoid'))\n",
    "model5.add(Dense(2, seed=3))\n",
    "# model5.add(Activation('sigmoid'))\n",
    "sgd = StochasticGradientDescent(learning_rate=0.05)\n",
    "model5.compile(optimizer=sgd, loss=\"mean_squared_error\")"
   ]
  },
  {
   "cell_type": "code",
   "execution_count": null,
   "metadata": {
    "scrolled": true
   },
   "outputs": [],
   "source": [
    "%time model5.fit(X_train5, y_train5, epochs=5)"
   ]
  },
  {
   "cell_type": "code",
   "execution_count": null,
   "metadata": {},
   "outputs": [],
   "source": [
    "binary_visualize(X_test5, clf=model5, draw_contour=True)"
   ]
  },
  {
   "cell_type": "code",
   "execution_count": null,
   "metadata": {},
   "outputs": [],
   "source": []
  },
  {
   "cell_type": "code",
   "execution_count": null,
   "metadata": {},
   "outputs": [],
   "source": []
  }
 ],
 "metadata": {
  "kernelspec": {
   "display_name": "fs2ml2",
   "language": "python",
   "name": "venv_fs2ml"
  },
  "language_info": {
   "codemirror_mode": {
    "name": "ipython",
    "version": 2
   },
   "file_extension": ".py",
   "mimetype": "text/x-python",
   "name": "python",
   "nbconvert_exporter": "python",
   "pygments_lexer": "ipython2",
   "version": "2.7.15rc1"
  }
 },
 "nbformat": 4,
 "nbformat_minor": 2
}
