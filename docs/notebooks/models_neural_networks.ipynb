{
 "cells": [
  {
   "cell_type": "code",
   "execution_count": 1,
   "metadata": {},
   "outputs": [],
   "source": [
    "from fromscratchtoml.neural_network.models import Sequential\n",
    "from fromscratchtoml.neural_network.optimizers import StochasticGradientDescent\n",
    "from fromscratchtoml.neural_network.layers import Dense, Activation\n",
    "\n",
    "import numpy as np\n",
    "from sklearn.model_selection import train_test_split\n"
   ]
  },
  {
   "cell_type": "markdown",
   "metadata": {},
   "source": [
    "# Neural Networks"
   ]
  },
  {
   "cell_type": "markdown",
   "metadata": {},
   "source": [
    "## Fitting a XOR gate"
   ]
  },
  {
   "cell_type": "code",
   "execution_count": 2,
   "metadata": {
    "collapsed": true
   },
   "outputs": [],
   "source": [
    "# [:, np.newaxis]\n",
    "model = Sequential()\n",
    "model.add(Dense(5, input_dim=2))\n",
    "model.add(Activation('sigmoid'))\n",
    "model.add(Dense(2))\n",
    "model.add(Activation('sigmoid'))\n",
    "sgd = StochasticGradientDescent(learning_rate=2)\n",
    "model.compile(optimizer=sgd, loss=\"mean_squared_error\")"
   ]
  },
  {
   "cell_type": "code",
   "execution_count": 3,
   "metadata": {},
   "outputs": [
    {
     "data": {
      "text/plain": [
       "array([[1, 0],\n",
       "       [0, 1],\n",
       "       [0, 1],\n",
       "       [1, 0]])"
      ]
     },
     "execution_count": 3,
     "metadata": {},
     "output_type": "execute_result"
    }
   ],
   "source": [
    "X = np.array([[0, 0],[0, 1],[1, 0], [1, 1]])\n",
    "y = np.array([[1,0], [0,1], [0,1], [1,0]])\n",
    "y"
   ]
  },
  {
   "cell_type": "code",
   "execution_count": 4,
   "metadata": {},
   "outputs": [
    {
     "name": "stdout",
     "output_type": "stream",
     "text": [
      "[██                                                                                                  ] 2%\n",
      "[████                                                                                                ] 4%\n",
      "[██████                                                                                              ] 6%\n",
      "[████████                                                                                            ] 8%\n",
      "[██████████                                                                                          ] 10%\n",
      "[████████████                                                                                        ] 12%\n",
      "[██████████████                                                                                      ] 14%\n",
      "[████████████████                                                                                    ] 16%\n",
      "[██████████████████                                                                                  ] 18%\n",
      "[████████████████████                                                                                ] 20%\n",
      "[██████████████████████                                                                              ] 22%\n",
      "[████████████████████████                                                                            ] 24%\n",
      "[██████████████████████████                                                                          ] 26%\n",
      "[████████████████████████████                                                                        ] 28%\n",
      "[██████████████████████████████                                                                      ] 30%\n",
      "[████████████████████████████████                                                                    ] 32%\n",
      "[██████████████████████████████████                                                                  ] 34%\n",
      "[████████████████████████████████████                                                                ] 36%\n",
      "[██████████████████████████████████████                                                              ] 38%\n",
      "[████████████████████████████████████████                                                            ] 40%\n",
      "[██████████████████████████████████████████                                                          ] 42%\n",
      "[████████████████████████████████████████████                                                        ] 44%\n",
      "[██████████████████████████████████████████████                                                      ] 46%\n",
      "[████████████████████████████████████████████████                                                    ] 48%\n",
      "[██████████████████████████████████████████████████                                                  ] 50%\n",
      "[████████████████████████████████████████████████████                                                ] 52%\n",
      "[██████████████████████████████████████████████████████                                              ] 54%\n",
      "[████████████████████████████████████████████████████████                                            ] 56%\n",
      "[█████████████████████████████████████████████████████████                                           ] 57%\n",
      "[████████████████████████████████████████████████████████████                                        ] 60%\n",
      "[██████████████████████████████████████████████████████████████                                      ] 62%\n",
      "[████████████████████████████████████████████████████████████████                                    ] 64%\n",
      "[██████████████████████████████████████████████████████████████████                                  ] 66%\n",
      "[████████████████████████████████████████████████████████████████████                                ] 68%\n",
      "[██████████████████████████████████████████████████████████████████████                              ] 70%\n",
      "[████████████████████████████████████████████████████████████████████████                            ] 72%\n",
      "[██████████████████████████████████████████████████████████████████████████                          ] 74%\n",
      "[████████████████████████████████████████████████████████████████████████████                        ] 76%\n",
      "[██████████████████████████████████████████████████████████████████████████████                      ] 78%\n",
      "[████████████████████████████████████████████████████████████████████████████████                    ] 80%\n",
      "[██████████████████████████████████████████████████████████████████████████████████                  ] 82%\n",
      "[████████████████████████████████████████████████████████████████████████████████████                ] 84%\n",
      "[██████████████████████████████████████████████████████████████████████████████████████              ] 86%\n",
      "[████████████████████████████████████████████████████████████████████████████████████████            ] 88%\n",
      "[██████████████████████████████████████████████████████████████████████████████████████████          ] 90%\n",
      "[████████████████████████████████████████████████████████████████████████████████████████████        ] 92%\n",
      "[██████████████████████████████████████████████████████████████████████████████████████████████      ] 94%\n",
      "[████████████████████████████████████████████████████████████████████████████████████████████████    ] 96%\n",
      "[██████████████████████████████████████████████████████████████████████████████████████████████████  ] 98%\n",
      "[████████████████████████████████████████████████████████████████████████████████████████████████████] 100%\n",
      "\n",
      "epoch: 50/50 "
     ]
    }
   ],
   "source": [
    "model.fit(X, y, batch_size=4, epochs=50)"
   ]
  },
  {
   "cell_type": "code",
   "execution_count": 5,
   "metadata": {
    "scrolled": true
   },
   "outputs": [
    {
     "data": {
      "text/plain": [
       "array([[ 0.,  0.],\n",
       "       [ 0.,  0.],\n",
       "       [ 0.,  0.],\n",
       "       [-1.,  1.]])"
      ]
     },
     "execution_count": 5,
     "metadata": {},
     "output_type": "execute_result"
    }
   ],
   "source": [
    "model.predict(X) - y"
   ]
  },
  {
   "cell_type": "code",
   "execution_count": null,
   "metadata": {},
   "outputs": [],
   "source": []
  },
  {
   "cell_type": "code",
   "execution_count": 6,
   "metadata": {},
   "outputs": [
    {
     "data": {
      "text/plain": [
       "((60000, 784), (60000,))"
      ]
     },
     "execution_count": 6,
     "metadata": {},
     "output_type": "execute_result"
    }
   ],
   "source": [
    "from sklearn.datasets import fetch_mldata\n",
    "mnist = fetch_mldata('MNIST original', data_home=\".\")\n",
    "X = mnist.data\n",
    "y = mnist.target\n",
    "X_train, X_test, y_train, y_test = train_test_split(X, y, test_size=10000, random_state=42)\n",
    "X_train.shape, y_train.shape"
   ]
  },
  {
   "cell_type": "code",
   "execution_count": 7,
   "metadata": {},
   "outputs": [
    {
     "data": {
      "text/plain": [
       "(3.0, (60000, 10, 1))"
      ]
     },
     "execution_count": 7,
     "metadata": {},
     "output_type": "execute_result"
    }
   ],
   "source": [
    "a = []\n",
    "for i in range(len(y_train)):\n",
    "    x = np.zeros(10)\n",
    "    x[int(y_train[i])] = 1.\n",
    "    a.append(np.expand_dims(x, 1))\n",
    "#     a.append(x)\n",
    "a = np.array(a, dtype=np.float128)\n",
    "y_train[0], a.shape"
   ]
  },
  {
   "cell_type": "code",
   "execution_count": 8,
   "metadata": {},
   "outputs": [
    {
     "data": {
      "text/plain": [
       "array([[0.],\n",
       "       [0.],\n",
       "       [0.],\n",
       "       [1.],\n",
       "       [0.],\n",
       "       [0.],\n",
       "       [0.],\n",
       "       [0.],\n",
       "       [0.],\n",
       "       [0.]], dtype=float128)"
      ]
     },
     "execution_count": 8,
     "metadata": {},
     "output_type": "execute_result"
    }
   ],
   "source": [
    "# a = np.expand_dims(a, 0)\n",
    "a[0]"
   ]
  },
  {
   "cell_type": "code",
   "execution_count": 9,
   "metadata": {},
   "outputs": [],
   "source": [
    "model = Sequential()\n",
    "model.add(Dense(30, input_dim=784))\n",
    "model.add(Activation('sigmoid'))\n",
    "model.add(Dense(10))\n",
    "model.add(Activation('sigmoid'))\n",
    "sgd = StochasticGradientDescent(learning_rate=1)\n",
    "model.compile(optimizer=sgd, loss=\"mean_squared_error\")"
   ]
  },
  {
   "cell_type": "code",
   "execution_count": 10,
   "metadata": {},
   "outputs": [
    {
     "name": "stdout",
     "output_type": "stream",
     "text": [
      "[████████████████████████████████████████████████████████████████████████████████████████████████████] 100%\n",
      "\n",
      "epoch: 1/1 "
     ]
    },
    {
     "name": "stderr",
     "output_type": "stream",
     "text": [
      "/home/mark/.local/lib/python2.7/site-packages/fromscratchtoml-0.0.2-py2.7.egg/fromscratchtoml/neural_network/activations.py:49: RuntimeWarning: overflow encountered in exp\n",
      "  _sigmoid = 1.0 / (1.0 + np.exp(-x))\n"
     ]
    }
   ],
   "source": [
    "model.fit(X_train, a, batch_size=10, epochs=1)"
   ]
  },
  {
   "cell_type": "code",
   "execution_count": 11,
   "metadata": {},
   "outputs": [
    {
     "data": {
      "text/plain": [
       "array([[0.10975118],\n",
       "       [0.04900288],\n",
       "       [0.15642538],\n",
       "       [0.02542232],\n",
       "       [0.00129357],\n",
       "       [0.03228947],\n",
       "       [0.0677715 ],\n",
       "       [0.06215153],\n",
       "       [0.03305179],\n",
       "       [0.07800378]], dtype=float128)"
      ]
     },
     "execution_count": 11,
     "metadata": {},
     "output_type": "execute_result"
    }
   ],
   "source": [
    "model.forwardpass(X_train[1])"
   ]
  },
  {
   "cell_type": "code",
   "execution_count": 12,
   "metadata": {},
   "outputs": [
    {
     "data": {
      "text/plain": [
       "0.0"
      ]
     },
     "execution_count": 12,
     "metadata": {},
     "output_type": "execute_result"
    }
   ],
   "source": [
    "y_train[100]"
   ]
  }
 ],
 "metadata": {
  "kernelspec": {
   "display_name": "Python 2",
   "language": "python",
   "name": "python2"
  },
  "language_info": {
   "codemirror_mode": {
    "name": "ipython",
    "version": 2
   },
   "file_extension": ".py",
   "mimetype": "text/x-python",
   "name": "python",
   "nbconvert_exporter": "python",
   "pygments_lexer": "ipython2",
   "version": "2.7.14"
  }
 },
 "nbformat": 4,
 "nbformat_minor": 2
}
