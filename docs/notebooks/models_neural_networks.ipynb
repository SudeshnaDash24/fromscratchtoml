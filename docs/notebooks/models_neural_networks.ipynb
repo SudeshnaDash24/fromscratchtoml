{
 "cells": [
  {
   "cell_type": "code",
   "execution_count": 1,
   "metadata": {
    "collapsed": true
   },
   "outputs": [],
   "source": [
    "from fromscratchtoml.neural_network import NeuralNetwork\n",
    "import torch as ch\n",
    "import numpy as np\n",
    "import torch\n",
    "from torchvision import datasets, transforms"
   ]
  },
  {
   "cell_type": "code",
   "execution_count": 2,
   "metadata": {
    "collapsed": true
   },
   "outputs": [],
   "source": [
    "x = ch.Tensor([[0, 0],[0, 1],[1, 0], [1, 1]])\n",
    "y = ch.Tensor([[1,0], [0,1], [0,1], [1,0]])\n",
    "train_datax = ch.utils.data.TensorDataset(x, y)"
   ]
  },
  {
   "cell_type": "code",
   "execution_count": 3,
   "metadata": {
    "collapsed": true
   },
   "outputs": [],
   "source": [
    "nw = NeuralNetwork([2, 5, 2])"
   ]
  },
  {
   "cell_type": "code",
   "execution_count": 4,
   "metadata": {},
   "outputs": [
    {
     "name": "stderr",
     "output_type": "stream",
     "text": [
      "INFO:fromscratchtoml.neural_network.nn:Epoch 0:\n",
      "INFO:fromscratchtoml.neural_network.nn:Accuracy is 50.0\n",
      "INFO:fromscratchtoml.neural_network.nn:Epoch 1:\n",
      "INFO:fromscratchtoml.neural_network.nn:Accuracy is 50.0\n",
      "INFO:fromscratchtoml.neural_network.nn:Epoch 2:\n",
      "INFO:fromscratchtoml.neural_network.nn:Accuracy is 50.0\n",
      "INFO:fromscratchtoml.neural_network.nn:Epoch 3:\n",
      "INFO:fromscratchtoml.neural_network.nn:Accuracy is 50.0\n",
      "INFO:fromscratchtoml.neural_network.nn:Epoch 4:\n",
      "INFO:fromscratchtoml.neural_network.nn:Accuracy is 50.0\n",
      "INFO:fromscratchtoml.neural_network.nn:Epoch 5:\n",
      "INFO:fromscratchtoml.neural_network.nn:Accuracy is 50.0\n",
      "INFO:fromscratchtoml.neural_network.nn:Epoch 6:\n",
      "INFO:fromscratchtoml.neural_network.nn:Accuracy is 50.0\n",
      "INFO:fromscratchtoml.neural_network.nn:Epoch 7:\n",
      "INFO:fromscratchtoml.neural_network.nn:Accuracy is 50.0\n",
      "INFO:fromscratchtoml.neural_network.nn:Epoch 8:\n",
      "INFO:fromscratchtoml.neural_network.nn:Accuracy is 50.0\n",
      "INFO:fromscratchtoml.neural_network.nn:Epoch 9:\n",
      "INFO:fromscratchtoml.neural_network.nn:Accuracy is 50.0\n",
      "INFO:fromscratchtoml.neural_network.nn:Epoch 10:\n",
      "INFO:fromscratchtoml.neural_network.nn:Accuracy is 50.0\n",
      "INFO:fromscratchtoml.neural_network.nn:Epoch 11:\n",
      "INFO:fromscratchtoml.neural_network.nn:Accuracy is 50.0\n",
      "INFO:fromscratchtoml.neural_network.nn:Epoch 12:\n",
      "INFO:fromscratchtoml.neural_network.nn:Accuracy is 50.0\n",
      "INFO:fromscratchtoml.neural_network.nn:Epoch 13:\n",
      "INFO:fromscratchtoml.neural_network.nn:Accuracy is 50.0\n",
      "INFO:fromscratchtoml.neural_network.nn:Epoch 14:\n",
      "INFO:fromscratchtoml.neural_network.nn:Accuracy is 50.0\n",
      "INFO:fromscratchtoml.neural_network.nn:Epoch 15:\n",
      "INFO:fromscratchtoml.neural_network.nn:Accuracy is 50.0\n",
      "INFO:fromscratchtoml.neural_network.nn:Epoch 16:\n",
      "INFO:fromscratchtoml.neural_network.nn:Accuracy is 50.0\n",
      "INFO:fromscratchtoml.neural_network.nn:Epoch 17:\n",
      "INFO:fromscratchtoml.neural_network.nn:Accuracy is 50.0\n",
      "INFO:fromscratchtoml.neural_network.nn:Epoch 18:\n",
      "INFO:fromscratchtoml.neural_network.nn:Accuracy is 50.0\n",
      "INFO:fromscratchtoml.neural_network.nn:Epoch 19:\n",
      "INFO:fromscratchtoml.neural_network.nn:Accuracy is 50.0\n",
      "INFO:fromscratchtoml.neural_network.nn:Epoch 20:\n",
      "INFO:fromscratchtoml.neural_network.nn:Accuracy is 50.0\n",
      "INFO:fromscratchtoml.neural_network.nn:Epoch 21:\n",
      "INFO:fromscratchtoml.neural_network.nn:Accuracy is 50.0\n",
      "INFO:fromscratchtoml.neural_network.nn:Epoch 22:\n",
      "INFO:fromscratchtoml.neural_network.nn:Accuracy is 50.0\n",
      "INFO:fromscratchtoml.neural_network.nn:Epoch 23:\n",
      "INFO:fromscratchtoml.neural_network.nn:Accuracy is 50.0\n",
      "INFO:fromscratchtoml.neural_network.nn:Epoch 24:\n",
      "INFO:fromscratchtoml.neural_network.nn:Accuracy is 50.0\n",
      "INFO:fromscratchtoml.neural_network.nn:Epoch 25:\n",
      "INFO:fromscratchtoml.neural_network.nn:Accuracy is 50.0\n",
      "INFO:fromscratchtoml.neural_network.nn:Epoch 26:\n",
      "INFO:fromscratchtoml.neural_network.nn:Accuracy is 50.0\n",
      "INFO:fromscratchtoml.neural_network.nn:Epoch 27:\n",
      "INFO:fromscratchtoml.neural_network.nn:Accuracy is 50.0\n",
      "INFO:fromscratchtoml.neural_network.nn:Epoch 28:\n",
      "INFO:fromscratchtoml.neural_network.nn:Accuracy is 50.0\n",
      "INFO:fromscratchtoml.neural_network.nn:Epoch 29:\n",
      "INFO:fromscratchtoml.neural_network.nn:Accuracy is 75.0\n",
      "INFO:fromscratchtoml.neural_network.nn:Epoch 30:\n",
      "INFO:fromscratchtoml.neural_network.nn:Accuracy is 50.0\n",
      "INFO:fromscratchtoml.neural_network.nn:Epoch 31:\n",
      "INFO:fromscratchtoml.neural_network.nn:Accuracy is 50.0\n",
      "INFO:fromscratchtoml.neural_network.nn:Epoch 32:\n",
      "INFO:fromscratchtoml.neural_network.nn:Accuracy is 50.0\n",
      "INFO:fromscratchtoml.neural_network.nn:Epoch 33:\n",
      "INFO:fromscratchtoml.neural_network.nn:Accuracy is 50.0\n",
      "INFO:fromscratchtoml.neural_network.nn:Epoch 34:\n",
      "INFO:fromscratchtoml.neural_network.nn:Accuracy is 50.0\n",
      "INFO:fromscratchtoml.neural_network.nn:Epoch 35:\n",
      "INFO:fromscratchtoml.neural_network.nn:Accuracy is 50.0\n",
      "INFO:fromscratchtoml.neural_network.nn:Epoch 36:\n",
      "INFO:fromscratchtoml.neural_network.nn:Accuracy is 50.0\n",
      "INFO:fromscratchtoml.neural_network.nn:Epoch 37:\n",
      "INFO:fromscratchtoml.neural_network.nn:Accuracy is 50.0\n",
      "INFO:fromscratchtoml.neural_network.nn:Epoch 38:\n",
      "INFO:fromscratchtoml.neural_network.nn:Accuracy is 50.0\n",
      "INFO:fromscratchtoml.neural_network.nn:Epoch 39:\n",
      "INFO:fromscratchtoml.neural_network.nn:Accuracy is 50.0\n",
      "INFO:fromscratchtoml.neural_network.nn:Epoch 40:\n",
      "INFO:fromscratchtoml.neural_network.nn:Accuracy is 50.0\n",
      "INFO:fromscratchtoml.neural_network.nn:Epoch 41:\n",
      "INFO:fromscratchtoml.neural_network.nn:Accuracy is 50.0\n",
      "INFO:fromscratchtoml.neural_network.nn:Epoch 42:\n",
      "INFO:fromscratchtoml.neural_network.nn:Accuracy is 50.0\n",
      "INFO:fromscratchtoml.neural_network.nn:Epoch 43:\n",
      "INFO:fromscratchtoml.neural_network.nn:Accuracy is 50.0\n",
      "INFO:fromscratchtoml.neural_network.nn:Epoch 44:\n",
      "INFO:fromscratchtoml.neural_network.nn:Accuracy is 50.0\n",
      "INFO:fromscratchtoml.neural_network.nn:Epoch 45:\n",
      "INFO:fromscratchtoml.neural_network.nn:Accuracy is 50.0\n",
      "INFO:fromscratchtoml.neural_network.nn:Epoch 46:\n",
      "INFO:fromscratchtoml.neural_network.nn:Accuracy is 50.0\n",
      "INFO:fromscratchtoml.neural_network.nn:Epoch 47:\n",
      "INFO:fromscratchtoml.neural_network.nn:Accuracy is 50.0\n",
      "INFO:fromscratchtoml.neural_network.nn:Epoch 48:\n",
      "INFO:fromscratchtoml.neural_network.nn:Accuracy is 50.0\n",
      "INFO:fromscratchtoml.neural_network.nn:Epoch 49:\n",
      "INFO:fromscratchtoml.neural_network.nn:Accuracy is 50.0\n"
     ]
    }
   ],
   "source": [
    "nw.SGD(train_data=train_datax, epochs=50, batch_size=4, lr=3, test_data=train_datax)"
   ]
  },
  {
   "cell_type": "code",
   "execution_count": 5,
   "metadata": {},
   "outputs": [
    {
     "name": "stdout",
     "output_type": "stream",
     "text": [
      "Downloading http://yann.lecun.com/exdb/mnist/train-images-idx3-ubyte.gz\n",
      "Downloading http://yann.lecun.com/exdb/mnist/train-labels-idx1-ubyte.gz\n",
      "Downloading http://yann.lecun.com/exdb/mnist/t10k-images-idx3-ubyte.gz\n",
      "Downloading http://yann.lecun.com/exdb/mnist/t10k-labels-idx1-ubyte.gz\n",
      "Processing...\n",
      "Done!\n"
     ]
    }
   ],
   "source": [
    "train_loader =  datasets.MNIST('../data', train=True, download=True,\n",
    "                   transform=transforms.Compose([\n",
    "                       transforms.ToTensor(),\n",
    "                       transforms.Normalize((0.1307,), (0.3081,))\n",
    "                   ]))\n",
    "test_loader = datasets.MNIST('../data', train=False, transform=transforms.Compose([\n",
    "                       transforms.ToTensor(),\n",
    "                       transforms.Normalize((0.1307,), (0.3081,))\n",
    "                   ]))"
   ]
  },
  {
   "cell_type": "code",
   "execution_count": 6,
   "metadata": {},
   "outputs": [
    {
     "data": {
      "text/plain": [
       "torchvision.datasets.mnist.MNIST"
      ]
     },
     "execution_count": 6,
     "metadata": {},
     "output_type": "execute_result"
    }
   ],
   "source": [
    "type(train_loader)"
   ]
  },
  {
   "cell_type": "code",
   "execution_count": 7,
   "metadata": {
    "collapsed": true
   },
   "outputs": [],
   "source": [
    "nw = NeuralNetwork([784, 30, 10])"
   ]
  },
  {
   "cell_type": "code",
   "execution_count": 8,
   "metadata": {},
   "outputs": [
    {
     "name": "stderr",
     "output_type": "stream",
     "text": [
      "/home/mark/.local/lib/python2.7/site-packages/fromscratchtoml-0.0.2-py2.7.egg/fromscratchtoml/neural_network/activations.py:49: RuntimeWarning: overflow encountered in exp\n",
      "  return 1.0 / (1.0 + np.exp(-x))\n",
      "INFO:fromscratchtoml.neural_network.nn:Epoch 0:\n",
      "INFO:fromscratchtoml.neural_network.nn:Accuracy is 88.53\n",
      "INFO:fromscratchtoml.neural_network.nn:Epoch 1:\n",
      "INFO:fromscratchtoml.neural_network.nn:Accuracy is 90.74\n",
      "INFO:fromscratchtoml.neural_network.nn:Epoch 2:\n",
      "INFO:fromscratchtoml.neural_network.nn:Accuracy is 90.84\n",
      "INFO:fromscratchtoml.neural_network.nn:Epoch 3:\n",
      "INFO:fromscratchtoml.neural_network.nn:Accuracy is 91.16\n",
      "INFO:fromscratchtoml.neural_network.nn:Epoch 4:\n",
      "INFO:fromscratchtoml.neural_network.nn:Accuracy is 91.55\n",
      "INFO:fromscratchtoml.neural_network.nn:Epoch 5:\n",
      "INFO:fromscratchtoml.neural_network.nn:Accuracy is 92.58\n",
      "INFO:fromscratchtoml.neural_network.nn:Epoch 6:\n",
      "INFO:fromscratchtoml.neural_network.nn:Accuracy is 92.17\n",
      "INFO:fromscratchtoml.neural_network.nn:Epoch 7:\n",
      "INFO:fromscratchtoml.neural_network.nn:Accuracy is 91.99\n",
      "INFO:fromscratchtoml.neural_network.nn:Epoch 8:\n",
      "INFO:fromscratchtoml.neural_network.nn:Accuracy is 92.49\n",
      "INFO:fromscratchtoml.neural_network.nn:Epoch 9:\n",
      "INFO:fromscratchtoml.neural_network.nn:Accuracy is 92.61\n",
      "INFO:fromscratchtoml.neural_network.nn:Epoch 10:\n",
      "INFO:fromscratchtoml.neural_network.nn:Accuracy is 92.95\n",
      "INFO:fromscratchtoml.neural_network.nn:Epoch 11:\n",
      "INFO:fromscratchtoml.neural_network.nn:Accuracy is 93.16\n",
      "INFO:fromscratchtoml.neural_network.nn:Epoch 12:\n",
      "INFO:fromscratchtoml.neural_network.nn:Accuracy is 93.18\n",
      "INFO:fromscratchtoml.neural_network.nn:Epoch 13:\n",
      "INFO:fromscratchtoml.neural_network.nn:Accuracy is 93.37\n",
      "INFO:fromscratchtoml.neural_network.nn:Epoch 14:\n",
      "INFO:fromscratchtoml.neural_network.nn:Accuracy is 93.4\n",
      "INFO:fromscratchtoml.neural_network.nn:Epoch 15:\n",
      "INFO:fromscratchtoml.neural_network.nn:Accuracy is 93.18\n",
      "INFO:fromscratchtoml.neural_network.nn:Epoch 16:\n",
      "INFO:fromscratchtoml.neural_network.nn:Accuracy is 93.56\n",
      "INFO:fromscratchtoml.neural_network.nn:Epoch 17:\n",
      "INFO:fromscratchtoml.neural_network.nn:Accuracy is 93.02\n",
      "INFO:fromscratchtoml.neural_network.nn:Epoch 18:\n",
      "INFO:fromscratchtoml.neural_network.nn:Accuracy is 93.52\n",
      "INFO:fromscratchtoml.neural_network.nn:Epoch 19:\n",
      "INFO:fromscratchtoml.neural_network.nn:Accuracy is 93.25\n",
      "INFO:fromscratchtoml.neural_network.nn:Epoch 20:\n",
      "INFO:fromscratchtoml.neural_network.nn:Accuracy is 93.6\n",
      "INFO:fromscratchtoml.neural_network.nn:Epoch 21:\n",
      "INFO:fromscratchtoml.neural_network.nn:Accuracy is 92.84\n",
      "INFO:fromscratchtoml.neural_network.nn:Epoch 22:\n",
      "INFO:fromscratchtoml.neural_network.nn:Accuracy is 93.43\n",
      "INFO:fromscratchtoml.neural_network.nn:Epoch 23:\n",
      "INFO:fromscratchtoml.neural_network.nn:Accuracy is 93.9\n",
      "INFO:fromscratchtoml.neural_network.nn:Epoch 24:\n",
      "INFO:fromscratchtoml.neural_network.nn:Accuracy is 93.89\n",
      "INFO:fromscratchtoml.neural_network.nn:Epoch 25:\n",
      "INFO:fromscratchtoml.neural_network.nn:Accuracy is 93.62\n",
      "INFO:fromscratchtoml.neural_network.nn:Epoch 26:\n",
      "INFO:fromscratchtoml.neural_network.nn:Accuracy is 93.9\n",
      "INFO:fromscratchtoml.neural_network.nn:Epoch 27:\n",
      "INFO:fromscratchtoml.neural_network.nn:Accuracy is 93.78\n",
      "INFO:fromscratchtoml.neural_network.nn:Epoch 28:\n",
      "INFO:fromscratchtoml.neural_network.nn:Accuracy is 93.85\n",
      "INFO:fromscratchtoml.neural_network.nn:Epoch 29:\n",
      "INFO:fromscratchtoml.neural_network.nn:Accuracy is 93.7\n"
     ]
    }
   ],
   "source": [
    "nw.SGD(train_data=train_loader, epochs=30, batch_size=10, lr=0.5, test_data=test_loader)"
   ]
  },
  {
   "cell_type": "code",
   "execution_count": null,
   "metadata": {
    "collapsed": true
   },
   "outputs": [],
   "source": []
  }
 ],
 "metadata": {
  "kernelspec": {
   "display_name": "Python 2",
   "language": "python",
   "name": "python2"
  },
  "language_info": {
   "codemirror_mode": {
    "name": "ipython",
    "version": 2
   },
   "file_extension": ".py",
   "mimetype": "text/x-python",
   "name": "python",
   "nbconvert_exporter": "python",
   "pygments_lexer": "ipython2",
   "version": "2.7.14"
  }
 },
 "nbformat": 4,
 "nbformat_minor": 2
}
