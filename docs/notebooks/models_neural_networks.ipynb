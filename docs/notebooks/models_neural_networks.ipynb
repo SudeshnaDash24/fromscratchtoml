{
 "cells": [
  {
   "cell_type": "code",
   "execution_count": 1,
   "metadata": {},
   "outputs": [],
   "source": [
    "from fromscratchtoml.neural_network.models import Sequential\n",
    "from fromscratchtoml.neural_network.optimizers import StochasticGradientDescent\n",
    "from fromscratchtoml.neural_network.layers import Dense, Activation\n",
    "\n",
    "import numpy as np\n",
    "from sklearn.model_selection import train_test_split\n"
   ]
  },
  {
   "cell_type": "markdown",
   "metadata": {},
   "source": [
    "# Neural Networks"
   ]
  },
  {
   "cell_type": "code",
   "execution_count": 71,
   "metadata": {},
   "outputs": [],
   "source": [
    "model = Sequential()\n",
    "model.add(Dense(5, input_dim=2))\n",
    "model.add(Activation('sigmoid'))\n",
    "model.add(Dense(2))\n",
    "model.add(Activation('sigmoid'))\n",
    "sgd = StochasticGradientDescent(learning_rate=2.5)\n",
    "model.compile(optimizer=sgd, loss=\"mean_squared_error\")"
   ]
  },
  {
   "cell_type": "code",
   "execution_count": 72,
   "metadata": {},
   "outputs": [],
   "source": [
    "X = np.array([[0, 0],[0, 1],[1, 0], [1, 1]])\n",
    "y = np.array([[1,0], [0,1], [0,1], [1,0]])"
   ]
  },
  {
   "cell_type": "code",
   "execution_count": 73,
   "metadata": {
    "scrolled": true
   },
   "outputs": [
    {
     "name": "stdout",
     "output_type": "stream",
     "text": [
      "(0.0726934361297971, 'loss')\n",
      "(0.1084290713597063, 'loss')\n",
      "(0.13124627108127884, 'loss')\n",
      "(0.1583544358634341, 'loss')\n",
      "(0.20405794613883937, 'loss')\n",
      "(0.24543645017592813, 'loss')\n",
      "(0.2666698149938498, 'loss')\n",
      "(0.27798091736383335, 'loss')\n",
      "(0.2859612305185658, 'loss')\n",
      "(0.293004589579553, 'loss')\n",
      "(0.2997959426356315, 'loss')\n",
      "(0.3064147049701571, 'loss')\n",
      "(0.3127717096247719, 'loss')\n",
      "(0.3187696810134965, 'loss')\n",
      "(0.324348309380069, 'loss')\n",
      "(0.32948597566273297, 'loss')\n",
      "(0.3341893827571103, 'loss')\n",
      "(0.33848267857576453, 'loss')\n",
      "(0.3423991237395818, 'loss')\n",
      "(0.34597529743363387, 'loss')\n",
      "(0.3492470705748805, 'loss')\n",
      "(0.3522465962605651, 'loss')\n",
      "(0.35499977150467266, 'loss')\n",
      "(0.35752381814800355, 'loss')\n",
      "(0.35982477919350053, 'loss')\n",
      "(0.3618948466909885, 'loss')\n",
      "(0.3637095585004402, 'loss')\n",
      "(0.36522505127654487, 'loss')\n",
      "(0.3663757511774187, 'loss')\n",
      "(0.36707311332150516, 'loss')\n",
      "(0.3672062387818672, 'loss')\n",
      "(0.3666453099127086, 'loss')\n",
      "(0.3652486622530592, 'loss')\n",
      "(0.3628738364691499, 'loss')\n",
      "(0.35939209280403245, 'loss')\n",
      "(0.3547047336529975, 'loss')\n",
      "(0.3487584266478351, 'loss')\n",
      "(0.341555915144227, 'loss')\n",
      "(0.33315847147829236, 'loss')\n",
      "(0.3236776085444887, 'loss')\n",
      "(0.31325607371983927, 'loss')\n",
      "(0.3020414968898826, 'loss')\n",
      "(0.29015902355258816, 'loss')\n",
      "(0.2776906033804866, 'loss')\n",
      "(0.26466795405812293, 'loss')\n",
      "(0.25108389892645283, 'loss')\n",
      "(0.23692269118734952, 'loss')\n",
      "(0.22220344577737916, 'loss')\n",
      "(0.20702286832561212, 'loss')\n",
      "(0.19157883880035373, 'loss')\n",
      "(0.17616105561449524, 'loss')\n",
      "(0.1611091099948854, 'loss')\n",
      "(0.1467537100304535, 'loss')\n",
      "(0.13336321075112717, 'loss')\n",
      "(0.12111210868803426, 'loss')\n",
      "(0.11007602634183666, 'loss')\n",
      "(0.10024696335212002, 'loss')\n",
      "(0.09155806373459162, 'loss')\n",
      "(0.08390857004592156, 'loss')\n",
      "(0.07718375202951527, 'loss')\n",
      "(0.07126838980350093, 'loss')\n",
      "(0.06605460107969646, 'loss')\n",
      "(0.06144556854466671, 'loss')\n",
      "(0.05735666468205098, 'loss')\n",
      "(0.053715108223734875, 'loss')\n",
      "(0.05045890247387162, 'loss')\n",
      "(0.04753550542517365, 'loss')\n",
      "(0.044900478316898224, 'loss')\n",
      "(0.042516233747976154, 'loss')\n",
      "(0.04035093224938283, 'loss')\n",
      "(0.03837753746728172, 'loss')\n",
      "(0.03657302107881585, 'loss')\n",
      "(0.034917700565035605, 'loss')\n",
      "(0.03339469080710282, 'loss')\n",
      "(0.031989451182016765, 'loss')\n",
      "(0.030689411780391487, 'loss')\n",
      "(0.029483664694504724, 'loss')\n",
      "(0.028362708608419603, 'loss')\n",
      "(0.027318236978475866, 'loss')\n",
      "(0.026342961860488994, 'loss')\n",
      "(0.025430466919195153, 'loss')\n",
      "(0.02457508437256718, 'loss')\n",
      "(0.023771791614833636, 'loss')\n",
      "(0.023016124064351287, 'loss')\n",
      "(0.022304101429727243, 'loss')\n",
      "(0.02163216510898747, 'loss')\n",
      "(0.02099712485657406, 'loss')\n",
      "(0.020396113191550755, 'loss')\n",
      "(0.019826546293810296, 'loss')\n",
      "(0.019286090356320056, 'loss')\n",
      "(0.018772632540902473, 'loss')\n",
      "(0.01828425583101921, 'loss')\n",
      "(0.017819217194094232, 'loss')\n",
      "(0.017375928563331373, 'loss')\n",
      "(0.016952940228930524, 'loss')\n",
      "(0.01654892629442617, 'loss')\n",
      "(0.016162671908225894, 'loss')\n",
      "(0.01579306202545263, 'loss')\n",
      "(0.015439071492611, 'loss')\n",
      "(0.015099756278782267, 'loss')\n"
     ]
    }
   ],
   "source": [
    "model.fit(X, y, batch_size=4, epochs=100)"
   ]
  },
  {
   "cell_type": "code",
   "execution_count": 74,
   "metadata": {
    "scrolled": true
   },
   "outputs": [
    {
     "data": {
      "text/plain": [
       "array([[0.09471975],\n",
       "       [0.90831637]])"
      ]
     },
     "execution_count": 74,
     "metadata": {},
     "output_type": "execute_result"
    }
   ],
   "source": [
    "model.predict(np.array([1,0]))"
   ]
  },
  {
   "cell_type": "code",
   "execution_count": null,
   "metadata": {},
   "outputs": [],
   "source": []
  },
  {
   "cell_type": "code",
   "execution_count": 75,
   "metadata": {},
   "outputs": [
    {
     "data": {
      "text/plain": [
       "((60000, 784), (60000,))"
      ]
     },
     "execution_count": 75,
     "metadata": {},
     "output_type": "execute_result"
    }
   ],
   "source": [
    "from sklearn.datasets import fetch_mldata\n",
    "mnist = fetch_mldata('MNIST original', data_home=\"/home/markroxor/Downloads\")\n",
    "X = mnist.data\n",
    "y = mnist.target\n",
    "X_train, X_test, y_train, y_test = train_test_split(X, y, test_size=10000, random_state=42)\n",
    "X_train.shape, y_train.shape"
   ]
  },
  {
   "cell_type": "code",
   "execution_count": 82,
   "metadata": {},
   "outputs": [],
   "source": [
    "a = []\n",
    "for i in range(len(y_train)):\n",
    "    x = np.zeros(10)\n",
    "    x[int(y_train[i])] = 1.\n",
    "    a.append(np.expand_dims(x, 1))\n",
    "a = np.array(a, dtype=np.float128)"
   ]
  },
  {
   "cell_type": "code",
   "execution_count": 83,
   "metadata": {},
   "outputs": [
    {
     "data": {
      "text/plain": [
       "array([[0.],\n",
       "       [0.],\n",
       "       [0.],\n",
       "       [1.],\n",
       "       [0.],\n",
       "       [0.],\n",
       "       [0.],\n",
       "       [0.],\n",
       "       [0.],\n",
       "       [0.]], dtype=float128)"
      ]
     },
     "execution_count": 83,
     "metadata": {},
     "output_type": "execute_result"
    }
   ],
   "source": [
    "# a = np.expand_dims(a, 0)\n",
    "a[0]"
   ]
  },
  {
   "cell_type": "code",
   "execution_count": 84,
   "metadata": {},
   "outputs": [],
   "source": [
    "model = Sequential()\n",
    "model.add(Dense(30, input_dim=784))\n",
    "model.add(Activation('sigmoid'))\n",
    "model.add(Dense(10))\n",
    "model.add(Activation('sigmoid'))\n",
    "sgd = StochasticGradientDescent(learning_rate=2)\n",
    "model.compile(optimizer=sgd, loss=\"mean_squared_error\")"
   ]
  },
  {
   "cell_type": "code",
   "execution_count": 85,
   "metadata": {},
   "outputs": [
    {
     "name": "stdout",
     "output_type": "stream",
     "text": [
      "(0.09610663853530329155, 'loss')\n"
     ]
    }
   ],
   "source": [
    "model.fit(X_train, a, batch_size=10, epochs=1)"
   ]
  },
  {
   "cell_type": "code",
   "execution_count": 92,
   "metadata": {},
   "outputs": [
    {
     "data": {
      "text/plain": [
       "array([[0.10292393],\n",
       "       [0.0022676 ],\n",
       "       [0.15766186],\n",
       "       [0.02334977],\n",
       "       [0.04417828],\n",
       "       [0.03048914],\n",
       "       [0.06455242],\n",
       "       [0.05815137],\n",
       "       [0.03087108],\n",
       "       [0.07537097]], dtype=float128)"
      ]
     },
     "execution_count": 92,
     "metadata": {},
     "output_type": "execute_result"
    }
   ],
   "source": [
    "model.predict(X_train[10])"
   ]
  },
  {
   "cell_type": "code",
   "execution_count": 89,
   "metadata": {},
   "outputs": [
    {
     "data": {
      "text/plain": [
       "4.0"
      ]
     },
     "execution_count": 89,
     "metadata": {},
     "output_type": "execute_result"
    }
   ],
   "source": [
    "y_train[102]"
   ]
  },
  {
   "cell_type": "code",
   "execution_count": null,
   "metadata": {},
   "outputs": [],
   "source": []
  }
 ],
 "metadata": {
  "kernelspec": {
   "display_name": "Python 2",
   "language": "python",
   "name": "python2"
  },
  "language_info": {
   "codemirror_mode": {
    "name": "ipython",
    "version": 2
   },
   "file_extension": ".py",
   "mimetype": "text/x-python",
   "name": "python",
   "nbconvert_exporter": "python",
   "pygments_lexer": "ipython2",
   "version": "2.7.12"
  }
 },
 "nbformat": 4,
 "nbformat_minor": 2
}
