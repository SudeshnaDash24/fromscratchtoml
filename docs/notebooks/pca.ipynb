{
 "cells": [
  {
   "cell_type": "code",
   "execution_count": 1,
   "metadata": {},
   "outputs": [],
   "source": [
    "from fromscratchtoml.statistics import Statistics\n",
    "from fromscratchtoml.toolbox import binary_visualize\n",
    "import torch as ch\n",
    "\n",
    "from sklearn.decomposition import PCA\n",
    "import numpy as np\n",
    "%matplotlib inline"
   ]
  },
  {
   "cell_type": "code",
   "execution_count": 2,
   "metadata": {},
   "outputs": [
    {
     "name": "stdout",
     "output_type": "stream",
     "text": [
      "\n",
      " 0.0000  0.0000  2.5000\n",
      " 1.0000  1.0000  0.0000\n",
      " 2.0000  1.4142 -1.6213\n",
      " 3.0000  1.7321 -3.0981\n",
      " 4.0000  2.0000 -4.5000\n",
      "[torch.FloatTensor of size 5x3]\n",
      "\n"
     ]
    }
   ],
   "source": [
    "n = 5\n",
    "n_dim = 3\n",
    "n_comp = n_dim\n",
    "\n",
    "X = ch.zeros(n, n_dim)\n",
    "if n_dim==3:\n",
    "    m = 5\n",
    "    c = 2\n",
    "    d = 5\n",
    "    for i in range(n):\n",
    "        X[i,0] = i\n",
    "        X[i,1] = m*i + c\n",
    "        X[i,1] = np.sqrt(i)\n",
    "        X[i,2] = (d - 2*X[i,0] - 3*X[i,1])/2\n",
    "\n",
    "elif n_dim==2:\n",
    "    for i in range(n):\n",
    "        X[i,0] = i\n",
    "        X[i,1] = 2*i\n",
    "\n",
    "print(X)"
   ]
  },
  {
   "cell_type": "code",
   "execution_count": 3,
   "metadata": {},
   "outputs": [
    {
     "name": "stdout",
     "output_type": "stream",
     "text": [
      "[[ 0.48564243  0.23715405 -0.8413735 ]\n",
      " [-0.72722566  0.6436974  -0.2383201 ]\n",
      " [ 0.48507136  0.7276068   0.4850713 ]]\n",
      "[[-0.48564244 -0.23715404  0.84137351]\n",
      " [-0.72722574  0.64369731 -0.23832016]\n",
      " [-0.48507127 -0.72760686 -0.48507126]]\n"
     ]
    }
   ],
   "source": [
    "pca = PCA(n_components=n_comp)\n",
    "pca.fit(X)\n",
    "U, S, VT = np.linalg.svd(X - X.mean(0))\n",
    "\n",
    "print(VT[:n_comp])\n",
    "print(pca.components_)"
   ]
  },
  {
   "cell_type": "code",
   "execution_count": 4,
   "metadata": {
    "collapsed": true
   },
   "outputs": [],
   "source": [
    "r_x, evals, evecs = Statistics.pca(X, num_components=n_comp)"
   ]
  },
  {
   "cell_type": "code",
   "execution_count": 5,
   "metadata": {},
   "outputs": [
    {
     "data": {
      "image/png": "[encoded data removed]",
      "text/plain": [
       "<matplotlib.figure.Figure at 0x7fba60439f90>"
      ]
     },
     "metadata": {},
     "output_type": "display_data"
    }
   ],
   "source": [
    "binary_visualize(X)"
   ]
  },
  {
   "cell_type": "code",
   "execution_count": 6,
   "metadata": {},
   "outputs": [
    {
     "data": {
      "image/png": "[encoded data removed]",
      "text/plain": [
       "<matplotlib.figure.Figure at 0x7fba1d142110>"
      ]
     },
     "metadata": {},
     "output_type": "display_data"
    }
   ],
   "source": [
    "binary_visualize(ch.stack((r_x[...,0], r_x[...,1]), 1))"
   ]
  },
  {
   "cell_type": "code",
   "execution_count": 7,
   "metadata": {},
   "outputs": [
    {
     "data": {
      "image/png": "[encoded data removed]",
      "text/plain": [
       "<matplotlib.figure.Figure at 0x7fba60439890>"
      ]
     },
     "metadata": {},
     "output_type": "display_data"
    }
   ],
   "source": [
    "binary_visualize(ch.stack((r_x[...,0], r_x[...,2]), 1))"
   ]
  },
  {
   "cell_type": "code",
   "execution_count": 8,
   "metadata": {},
   "outputs": [
    {
     "data": {
      "image/png": "[encoded data removed]",
      "text/plain": [
       "<matplotlib.figure.Figure at 0x7fba1cf2d3d0>"
      ]
     },
     "metadata": {},
     "output_type": "display_data"
    }
   ],
   "source": [
    "binary_visualize(ch.stack((r_x[...,1], r_x[...,2]), 1))"
   ]
  },
  {
   "cell_type": "code",
   "execution_count": 9,
   "metadata": {
    "collapsed": true
   },
   "outputs": [],
   "source": [
    "X = X.numpy()"
   ]
  },
  {
   "cell_type": "code",
   "execution_count": 10,
   "metadata": {},
   "outputs": [
    {
     "name": "stdout",
     "output_type": "stream",
     "text": [
      "[[ 4.4969459e+00 -2.5288945e-01 -3.5821438e-07]\n",
      " [ 1.6707153e+00  2.5938264e-01  6.0797760e-08]\n",
      " [-2.7729562e-01  1.8517843e-01  1.2819712e-07]\n",
      " [-2.0808179e+00  1.4484412e-02  1.7158564e-07]\n",
      " [-3.8095474e+00 -2.0615631e-01  2.3783207e-07]]\n"
     ]
    }
   ],
   "source": [
    "pca = PCA(n_components=n_comp)\n",
    "pca.fit(X)\n",
    "skl_x = pca.transform(X)\n",
    "print(skl_x)"
   ]
  },
  {
   "cell_type": "code",
   "execution_count": 11,
   "metadata": {},
   "outputs": [
    {
     "data": {
      "text/plain": [
       "\n",
       " 2.1034 -0.5958  1.2127\n",
       "-0.7228 -0.0835  1.2127\n",
       "-2.6708 -0.1577  1.2127\n",
       "-4.4743 -0.3284  1.2127\n",
       "-6.2031 -0.5491  1.2127\n",
       "[torch.FloatTensor of size 5x3]"
      ]
     },
     "execution_count": 11,
     "metadata": {},
     "output_type": "execute_result"
    }
   ],
   "source": [
    "r_x"
   ]
  },
  {
   "cell_type": "code",
   "execution_count": 17,
   "metadata": {},
   "outputs": [
    {
     "name": "stdout",
     "output_type": "stream",
     "text": [
      "[[-2.3841858e-07 -4.7683716e-07  2.5000010e+00]\n",
      " [ 9.9999988e-01  9.9999982e-01  2.3841858e-07]\n",
      " [ 2.0000000e+00  1.4142135e+00 -1.6213204e+00]\n",
      " [ 3.0000000e+00  1.7320509e+00 -3.0980766e+00]\n",
      " [ 4.0000005e+00  2.0000002e+00 -4.5000005e+00]]\n",
      "\n",
      "[[ 1.1244492e-08  5.8948501e-08  2.5000000e+00]\n",
      " [ 1.0000000e+00  1.0000000e+00 -2.4677156e-08]\n",
      " [ 2.0000000e+00  1.4142138e+00 -1.6213202e+00]\n",
      " [ 3.0000000e+00  1.7320508e+00 -3.0980759e+00]\n",
      " [ 4.0000000e+00  2.0000000e+00 -4.5000000e+00]]\n"
     ]
    }
   ],
   "source": [
    "Xhat = np.dot(skl_x, pca.components_) + X.mean(axis=0)\n",
    "Xhatp = np.dot(r_x, evecs) #+ X.mean(axis=0)\n",
    "print(Xhat)\n",
    "print(\"\")\n",
    "print(Xhatp)"
   ]
  },
  {
   "cell_type": "code",
   "execution_count": 13,
   "metadata": {},
   "outputs": [
    {
     "data": {
      "text/plain": [
       "array([[ 0.       ,  0.       ,  2.5      ],\n",
       "       [ 1.       ,  1.       ,  0.       ],\n",
       "       [ 2.       ,  1.4142135, -1.6213202],\n",
       "       [ 3.       ,  1.7320508, -3.098076 ],\n",
       "       [ 4.       ,  2.       , -4.5      ]], dtype=float32)"
      ]
     },
     "execution_count": 13,
     "metadata": {},
     "output_type": "execute_result"
    }
   ],
   "source": [
    "X"
   ]
  },
  {
   "cell_type": "code",
   "execution_count": 14,
   "metadata": {},
   "outputs": [
    {
     "data": {
      "text/plain": [
       "\n",
       "-0.4856 -0.2372  0.8414\n",
       "-0.7272  0.6437 -0.2383\n",
       " 0.4851  0.7276  0.4851\n",
       "[torch.FloatTensor of size 3x3]"
      ]
     },
     "execution_count": 14,
     "metadata": {},
     "output_type": "execute_result"
    }
   ],
   "source": [
    "evecs"
   ]
  },
  {
   "cell_type": "code",
   "execution_count": 15,
   "metadata": {},
   "outputs": [
    {
     "data": {
      "text/plain": [
       "array([[-0.48564252, -0.23715413,  0.84137356],\n",
       "       [-0.72722554,  0.6436977 , -0.23832   ],\n",
       "       [-0.4850716 , -0.7276065 , -0.48507142]], dtype=float32)"
      ]
     },
     "execution_count": 15,
     "metadata": {},
     "output_type": "execute_result"
    }
   ],
   "source": [
    "pca.components_"
   ]
  }
 ],
 "metadata": {
  "kernelspec": {
   "display_name": "Python 2",
   "language": "python",
   "name": "python2"
  },
  "language_info": {
   "codemirror_mode": {
    "name": "ipython",
    "version": 2
   },
   "file_extension": ".py",
   "mimetype": "text/x-python",
   "name": "python",
   "nbconvert_exporter": "python",
   "pygments_lexer": "ipython2",
   "version": "2.7.14"
  }
 },
 "nbformat": 4,
 "nbformat_minor": 2
}
