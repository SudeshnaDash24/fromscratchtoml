{
 "cells": [
  {
   "cell_type": "code",
   "execution_count": 11,
   "metadata": {
    "collapsed": true
   },
   "outputs": [],
   "source": [
    "from fromscratchtoml.decomposition import Decomposition\n",
    "from fromscratchtoml.toolbox import binary_visualize\n",
    "import torch as ch\n",
    "\n",
    "from sklearn.decomposition import PCA\n",
    "import numpy as np\n",
    "%matplotlib inline"
   ]
  },
  {
   "cell_type": "code",
   "execution_count": 12,
   "metadata": {},
   "outputs": [
    {
     "name": "stdout",
     "output_type": "stream",
     "text": [
      "[[  0.    2.   -0.5]\n",
      " [  1.    7.   -9. ]\n",
      " [  2.   12.  -17.5]\n",
      " [  3.   17.  -26. ]\n",
      " [  4.   22.  -34.5]]\n"
     ]
    }
   ],
   "source": [
    "n = 5\n",
    "n_dim = 3\n",
    "\n",
    "X = np.zeros([n, n_dim])\n",
    "\n",
    "m = 5\n",
    "c = 2\n",
    "d = 5\n",
    "for i in range(n):\n",
    "    X[i,0] = i\n",
    "    X[i,1] = m*i + c\n",
    "#         X[i,1] = np.sqrt(i)\n",
    "    X[i,2] = (d - 2*X[i,0] - 3*X[i,1])/2\n",
    "\n",
    "print(X)"
   ]
  },
  {
   "cell_type": "code",
   "execution_count": 18,
   "metadata": {},
   "outputs": [
    {
     "name": "stdout",
     "output_type": "stream",
     "text": [
      "[[ 6.32455532e-01  1.52654118e-01 -8.75191559e-17  0.00000000e+00\n",
      "   0.00000000e+00]\n",
      " [ 3.16227766e-01 -9.45852676e-01 -9.12870929e-01  0.00000000e+00\n",
      "   0.00000000e+00]\n",
      " [ 0.00000000e+00  0.00000000e+00  0.00000000e+00  0.00000000e+00\n",
      "   1.00000000e+00]\n",
      " [-3.16227766e-01 -1.28108888e-01 -1.82574186e-01  8.94427191e-01\n",
      "   0.00000000e+00]\n",
      " [-6.32455532e-01 -2.56217776e-01 -3.65148372e-01 -4.47213595e-01\n",
      "   0.00000000e+00]]\n",
      "\n",
      "[[-6.32455532e-01 -7.74596669e-01 -9.43043057e-17  4.53097430e-17\n",
      "   0.00000000e+00]\n",
      " [-3.16227766e-01  2.58198890e-01 -9.12870929e-01  4.78638256e-17\n",
      "   5.86301129e-17]\n",
      " [ 0.00000000e+00  0.00000000e+00  0.00000000e+00 -4.47213595e-01\n",
      "  -8.94427191e-01]\n",
      " [ 3.16227766e-01 -2.58198890e-01 -1.82574186e-01  8.00000000e-01\n",
      "  -4.00000000e-01]\n",
      " [ 6.32455532e-01 -5.16397779e-01 -3.65148372e-01 -4.00000000e-01\n",
      "   2.00000000e-01]]\n"
     ]
    }
   ],
   "source": [
    "# X = np.zeros([4, 2])\n",
    "# X[0,0] = 2\n",
    "# X[0,1] = 4\n",
    "# X[1,0] = 1\n",
    "# X[1,1] = 3\n",
    "# X[2,0] = 0\n",
    "# X[2,1] = 0\n",
    "# X[3,0] = 0\n",
    "# X[3,1] = 0\n",
    "\n",
    "# X = np.zeros([2, 2])\n",
    "# X[0,0] = 4\n",
    "# X[0,1] = 0\n",
    "# X[1,0] = 3\n",
    "# X[1,1] = -5\n",
    "\n",
    "# X = np.zeros([2, 3])\n",
    "# X[0,0] = 2\n",
    "# X[0,1] = -2\n",
    "# X[0,2] = 1\n",
    "# X[1,0] = 5\n",
    "# X[1,1] = 1\n",
    "# X[1,2] = 4\n",
    "n_comp = 3\n",
    "A = X - X.mean(0)\n",
    "# print(type(A))\n",
    "W = np.dot(A, A.T)\n",
    "# cov_matrix = Statistics.cov_matrix(W, W)\n",
    "\n",
    "eigen_vals, eigen_vecs = np.linalg.eig(W)\n",
    "U = eigen_vecs\n",
    "\n",
    "\n",
    "Wt = np.dot(A.T, A)\n",
    "# cov_matrixt = Statistics.cov_matrix(Wt, Wt)\n",
    "eigen_valst, eigen_vecst = np.linalg.eig(Wt)\n",
    "# eigen_valst = sorted(eigen_valst, reverse=True)\n",
    "V = eigen_vecst.T\n",
    "\n",
    "# print(eigen_vals)\n",
    "# print(eigen_valst)\n",
    "# print(np.sqrt(eigen_vals))\n",
    "# print(sorted(np.sqrt(eigen_valst), reverse=True))\n",
    "# print(\"\")\n",
    "\n",
    "print(U)\n",
    "# print(np.sqrt(eigen_valst))\n",
    "# print(V,\"V\")\n",
    "\n",
    "u, s, vh = np.linalg.svd(A, full_matrices=True)\n",
    "print(\"\")\n",
    "print(u)\n",
    "# print(s)\n",
    "# print(vh)"
   ]
  },
  {
   "cell_type": "code",
   "execution_count": 14,
   "metadata": {},
   "outputs": [
    {
     "name": "stdout",
     "output_type": "stream",
     "text": [
      "[[ -1.92862191  -0.4869452   -0.54157367]\n",
      " [ -6.09994141  -8.32059668  -4.95564164]\n",
      " [-10.27126091 -16.15424816  -9.36970961]\n",
      " [-14.4425804  -23.98789964 -13.78377758]\n",
      " [-18.6138999  -31.82155112 -18.19784555]]\n",
      "[[ -0.70088379   1.65759561   1.00555388]\n",
      " [ -9.72692434   5.0084471    3.36190487]\n",
      " [-18.75296488   8.35929858   5.71825587]\n",
      " [-27.77900543  11.71015007   8.07460687]\n",
      " [-36.80504598  15.06100156  10.43095786]]\n"
     ]
    }
   ],
   "source": [
    "print(np.dot(X, ch.Tensor(V)))\n",
    "print(np.dot(X, ch.Tensor(vh)))"
   ]
  },
  {
   "cell_type": "code",
   "execution_count": 5,
   "metadata": {},
   "outputs": [
    {
     "name": "stdout",
     "output_type": "stream",
     "text": [
      "[[ 4.  0.]\n",
      " [ 3. -5.]]\n"
     ]
    }
   ],
   "source": [
    "print(X)"
   ]
  }
 ],
 "metadata": {
  "kernelspec": {
   "display_name": "Python 2",
   "language": "python",
   "name": "python2"
  },
  "language_info": {
   "codemirror_mode": {
    "name": "ipython",
    "version": 2
   },
   "file_extension": ".py",
   "mimetype": "text/x-python",
   "name": "python",
   "nbconvert_exporter": "python",
   "pygments_lexer": "ipython2",
   "version": "2.7.14"
  }
 },
 "nbformat": 4,
 "nbformat_minor": 2
}
