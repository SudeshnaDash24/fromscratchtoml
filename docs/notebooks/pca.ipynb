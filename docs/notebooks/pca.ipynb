{
 "cells": [
  {
   "cell_type": "code",
   "execution_count": 1,
   "metadata": {},
   "outputs": [],
   "source": [
    "from fromscratchtoml.decomposition import Decomposition\n",
    "from fromscratchtoml.toolbox import binary_visualize\n",
    "import torch as ch\n",
    "\n",
    "from sklearn.decomposition import PCA\n",
    "import numpy as np\n",
    "%matplotlib inline"
   ]
  },
  {
   "cell_type": "code",
   "execution_count": 2,
   "metadata": {},
   "outputs": [
    {
     "name": "stdout",
     "output_type": "stream",
     "text": [
      "\n",
      "  0.0000   2.0000  -0.5000\n",
      "  1.0000   7.0000  -9.0000\n",
      "  2.0000  12.0000 -17.5000\n",
      "  3.0000  17.0000 -26.0000\n",
      "  4.0000  22.0000 -34.5000\n",
      "[torch.FloatTensor of size 5x3]\n",
      "\n"
     ]
    }
   ],
   "source": [
    "n = 5\n",
    "n_dim = 3\n",
    "\n",
    "X = ch.zeros(n, n_dim)\n",
    "if n_dim==3:\n",
    "    m = 5\n",
    "    c = 2\n",
    "    d = 5\n",
    "    for i in range(n):\n",
    "        X[i,0] = i\n",
    "        X[i,1] = m*i + c\n",
    "#         X[i,1] = np.sqrt(i)\n",
    "        X[i,2] = (d - 2*X[i,0] - 3*X[i,1])/2\n",
    "\n",
    "elif n_dim==2:\n",
    "    for i in range(n):\n",
    "        X[i,0] = i\n",
    "        X[i,1] = 2*i\n",
    "\n",
    "print(X)"
   ]
  },
  {
   "cell_type": "code",
   "execution_count": 3,
   "metadata": {},
   "outputs": [
    {
     "name": "stdout",
     "output_type": "stream",
     "text": [
      "(array([[-0.9948979 ,  0.05115156, -0.08695766],\n",
      "       [ 0.10088666,  0.5044333 , -0.85753655],\n",
      "       [-0.05893861,  0.8634507 ,  0.50097823]], dtype=float32), 'V')\n",
      "\n",
      "[[ 0.10088666  0.5044333  -0.85753655]\n",
      " [-0.05893861  0.8634507   0.50097823]\n",
      " [-0.9931506   0.         -0.11684125]]\n"
     ]
    }
   ],
   "source": [
    "# X = ch.zeros(4, 2)\n",
    "# X[0,0] = 2\n",
    "# X[0,1] = 4\n",
    "# X[1,0] = 1\n",
    "# X[1,1] = 3\n",
    "# X[2,0] = 0\n",
    "# X[2,1] = 0\n",
    "# X[3,0] = 0\n",
    "# X[3,1] = 0\n",
    "\n",
    "# X = ch.zeros(2, 2)\n",
    "# X[0,0] = 4\n",
    "# X[0,1] = 0\n",
    "# X[1,0] = 3\n",
    "# X[1,1] = -5\n",
    "\n",
    "# X = ch.zeros(2, 3)\n",
    "# X[0,0] = 2\n",
    "# X[0,1] = -2\n",
    "# X[0,2] = 1\n",
    "# X[1,0] = 5\n",
    "# X[1,1] = 1\n",
    "# X[1,2] = 4\n",
    "n_comp = 3\n",
    "A = X - X.mean(dim=0)\n",
    "# print(type(A))\n",
    "W = ch.mm(A, A.t())\n",
    "# cov_matrix = Statistics.cov_matrix(W, W)\n",
    "\n",
    "eigen_vals, eigen_vecs = np.linalg.eig(W)\n",
    "U = eigen_vecs\n",
    "\n",
    "\n",
    "Wt = ch.mm(A.t(), A)\n",
    "# cov_matrixt = Statistics.cov_matrix(Wt, Wt)\n",
    "eigen_valst, eigen_vecst = np.linalg.eig(Wt)\n",
    "eigen_valst = sorted(eigen_valst, reverse=True)\n",
    "V = eigen_vecst.T\n",
    "\n",
    "# print(eigen_vals)\n",
    "# print(eigen_valst)\n",
    "# print(np.sqrt(eigen_vals))\n",
    "# print(sorted(np.sqrt(eigen_valst), reverse=True))\n",
    "# print(\"\")\n",
    "\n",
    "# print(U)\n",
    "# print(np.sqrt(eigen_valst))\n",
    "print(V,\"V\")\n",
    "\n",
    "u, s, vh = np.linalg.svd(A.numpy(), full_matrices=True)\n",
    "print(\"\")\n",
    "# print(u)\n",
    "# print(s)\n",
    "print(vh)"
   ]
  },
  {
   "cell_type": "code",
   "execution_count": 4,
   "metadata": {},
   "outputs": [
    {
     "name": "stdout",
     "output_type": "stream",
     "text": [
      "\n",
      "  0.2312   0.5771  -1.9656\n",
      "  0.2418  -4.1889 -10.5985\n",
      "  0.2523  -8.9549 -19.2315\n",
      "  0.2628 -13.7209 -27.8644\n",
      "  0.2733 -18.4869 -36.4974\n",
      "[torch.FloatTensor of size 5x3]\n",
      "\n",
      "\n",
      "  0.3787   1.7269   1.0604\n",
      "  8.6267   6.5486   3.7009\n",
      " 16.8746  11.3703   6.3414\n",
      " 25.1226  16.1920   8.9819\n",
      " 33.3706  21.0136  11.6224\n",
      "[torch.FloatTensor of size 5x3]\n",
      "\n"
     ]
    }
   ],
   "source": [
    "print(ch.mm(X, ch.Tensor(V)))\n",
    "print(ch.mm(X, ch.Tensor(vh)))"
   ]
  },
  {
   "cell_type": "code",
   "execution_count": 5,
   "metadata": {},
   "outputs": [
    {
     "name": "stdout",
     "output_type": "stream",
     "text": [
      "\n",
      "  0.0000   2.0000  -0.5000\n",
      "  1.0000   7.0000  -9.0000\n",
      "  2.0000  12.0000 -17.5000\n",
      "  3.0000  17.0000 -26.0000\n",
      "  4.0000  22.0000 -34.5000\n",
      "[torch.FloatTensor of size 5x3]\n",
      "\n"
     ]
    }
   ],
   "source": [
    "print(X)"
   ]
  }
 ],
 "metadata": {
  "kernelspec": {
   "display_name": "Python 2",
   "language": "python",
   "name": "python2"
  },
  "language_info": {
   "codemirror_mode": {
    "name": "ipython",
    "version": 2
   },
   "file_extension": ".py",
   "mimetype": "text/x-python",
   "name": "python",
   "nbconvert_exporter": "python",
   "pygments_lexer": "ipython2",
   "version": "2.7.12"
  }
 },
 "nbformat": 4,
 "nbformat_minor": 2
}
