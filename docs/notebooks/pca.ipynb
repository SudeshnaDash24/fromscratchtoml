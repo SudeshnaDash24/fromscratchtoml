{
 "cells": [
  {
   "cell_type": "code",
   "execution_count": 1,
   "metadata": {},
   "outputs": [],
   "source": [
    "from fromscratchtoml.statistics import Statistics\n",
    "from fromscratchtoml.toolbox import binary_visualize\n",
    "import torch as ch\n",
    "\n",
    "%matplotlib inline"
   ]
  },
  {
   "cell_type": "code",
   "execution_count": 2,
   "metadata": {},
   "outputs": [
    {
     "name": "stdout",
     "output_type": "stream",
     "text": [
      "\n",
      "  0   2  -1\n",
      "  1   7  -7\n",
      "  2  12 -13\n",
      "  3  17 -19\n",
      "  4  22 -25\n",
      "[torch.FloatTensor of size 5x3]\n",
      "\n"
     ]
    }
   ],
   "source": [
    "n = 5\n",
    "n_dim = 3\n",
    "n_comp = n_dim\n",
    "\n",
    "X = ch.zeros(n, n_dim)\n",
    "if n_dim==3:\n",
    "    m = 5\n",
    "    c = 2\n",
    "    d = 1\n",
    "    for i in range(n):\n",
    "        X[i,0] = i\n",
    "        X[i,1] = m*i + c\n",
    "        X[i,2] = d - X[i,0] - X[i,1]\n",
    "\n",
    "elif n_dim==2:\n",
    "    for i in range(n):\n",
    "        X[i,0] = i\n",
    "        X[i,1] = 2*i\n",
    "\n",
    "print(X)"
   ]
  },
  {
   "cell_type": "code",
   "execution_count": 3,
   "metadata": {},
   "outputs": [],
   "source": [
    "r_x, evals, evecs = Statistics.pca(X, num_components=n_comp)"
   ]
  },
  {
   "cell_type": "code",
   "execution_count": 4,
   "metadata": {},
   "outputs": [
    {
     "data": {
      "image/png": "[encoded data removed]",
      "text/plain": [
       "<matplotlib.figure.Figure at 0x7f5af0057510>"
      ]
     },
     "metadata": {},
     "output_type": "display_data"
    }
   ],
   "source": [
    "binary_visualize(X)"
   ]
  },
  {
   "cell_type": "code",
   "execution_count": 5,
   "metadata": {},
   "outputs": [
    {
     "data": {
      "image/png": "[encoded data removed]",
      "text/plain": [
       "<matplotlib.figure.Figure at 0x7f5a8a297790>"
      ]
     },
     "metadata": {},
     "output_type": "display_data"
    }
   ],
   "source": [
    "binary_visualize(ch.stack((r_x[...,0], r_x[...,1]), 1))"
   ]
  },
  {
   "cell_type": "code",
   "execution_count": 6,
   "metadata": {},
   "outputs": [],
   "source": [
    "# binary_visualize(ch.stack((r_x[...,0], r_x[...,2]), 1))"
   ]
  },
  {
   "cell_type": "code",
   "execution_count": 7,
   "metadata": {},
   "outputs": [],
   "source": [
    "# binary_visualize(ch.stack((r_x[...,1], r_x[...,2]), 1))"
   ]
  },
  {
   "cell_type": "code",
   "execution_count": 8,
   "metadata": {
    "collapsed": true
   },
   "outputs": [],
   "source": [
    "X = X.numpy()"
   ]
  },
  {
   "cell_type": "code",
   "execution_count": 9,
   "metadata": {},
   "outputs": [
    {
     "name": "stdout",
     "output_type": "stream",
     "text": [
      "[[  2.03200197  -0.66512853  -0.65465367]\n",
      " [  9.90600967  -0.66512775  -0.65465355]\n",
      " [ 17.78001595  -0.6651268   -0.65465355]\n",
      " [ 25.65402222  -0.66512585  -0.65465355]\n",
      " [ 33.5280304   -0.66512394  -0.65465355]]\n"
     ]
    }
   ],
   "source": [
    "from sklearn.decomposition import PCA\n",
    "from sklearn.preprocessing import StandardScaler\n",
    "import numpy as np\n",
    "pca = PCA(n_components=n_comp)\n",
    "pca.fit(X- X.mean(axis=0))\n",
    "# print(pca.fit_transform(X - X.mean(axis=0)))\n",
    "# print(pca.fit_transform(X))\n",
    "skl_x = pca.transform(X)\n",
    "print(skl_x)"
   ]
  },
  {
   "cell_type": "code",
   "execution_count": 10,
   "metadata": {},
   "outputs": [
    {
     "data": {
      "text/plain": [
       "\n",
       "  2.0320   0.9320   0.2602\n",
       "  9.9060   0.9320   0.2602\n",
       " 17.7800   0.9320   0.2602\n",
       " 25.6540   0.9320   0.2602\n",
       " 33.5280   0.9320   0.2602\n",
       "[torch.FloatTensor of size 5x3]"
      ]
     },
     "execution_count": 10,
     "metadata": {},
     "output_type": "execute_result"
    }
   ],
   "source": [
    "r_x"
   ]
  },
  {
   "cell_type": "code",
   "execution_count": 20,
   "metadata": {},
   "outputs": [
    {
     "name": "stdout",
     "output_type": "stream",
     "text": [
      "[[ -1.19209290e-07   1.99999964e+00  -9.99999821e-01]\n",
      " [  9.99999762e-01   6.99999952e+00  -6.99999905e+00]\n",
      " [  1.99999917e+00   1.19999971e+01  -1.29999962e+01]\n",
      " [  2.99999857e+00   1.69999981e+01  -1.89999943e+01]\n",
      " [  3.99999762e+00   2.19999962e+01  -2.49999962e+01]]\n",
      "\n",
      "[[ -0.21144447   2.02581477  -1.01372838]\n",
      " [  0.7885555    7.02581501  -7.01372766]\n",
      " [  1.78855562  12.02581501 -13.01372814]\n",
      " [  2.78855586  17.02581406 -19.0137291 ]\n",
      " [  3.78855538  22.02581406 -25.0137291 ]]\n"
     ]
    }
   ],
   "source": [
    "Xhat = np.dot(skl_x, pca.components_)\n",
    "Xhatp = np.dot(r_x, evecs) #- np.mean(X, axis=0)\n",
    "print(Xhat)\n",
    "print(\"\")\n",
    "print(Xhatp)"
   ]
  },
  {
   "cell_type": "code",
   "execution_count": 12,
   "metadata": {},
   "outputs": [
    {
     "data": {
      "text/plain": [
       "array([[  0.,   2.,  -1.],\n",
       "       [  1.,   7.,  -7.],\n",
       "       [  2.,  12., -13.],\n",
       "       [  3.,  17., -19.],\n",
       "       [  4.,  22., -25.]], dtype=float32)"
      ]
     },
     "execution_count": 12,
     "metadata": {},
     "output_type": "execute_result"
    }
   ],
   "source": [
    "X"
   ]
  },
  {
   "cell_type": "code",
   "execution_count": 13,
   "metadata": {},
   "outputs": [
    {
     "data": {
      "text/plain": [
       "\n",
       " 0.1270  0.6350 -0.7620\n",
       "-0.2269  0.7665  0.6009\n",
       "-0.9919  0.0813 -0.0976\n",
       "[torch.FloatTensor of size 3x3]"
      ]
     },
     "execution_count": 13,
     "metadata": {},
     "output_type": "execute_result"
    }
   ],
   "source": [
    "evecs"
   ]
  },
  {
   "cell_type": "code",
   "execution_count": 14,
   "metadata": {},
   "outputs": [
    {
     "data": {
      "text/plain": [
       "array([[ 0.12700014,  0.63500065, -0.76200062],\n",
       "       [-0.47113284, -0.63741499, -0.60970145],\n",
       "       [ 0.87287152, -0.43643579, -0.21821791]], dtype=float32)"
      ]
     },
     "execution_count": 14,
     "metadata": {},
     "output_type": "execute_result"
    }
   ],
   "source": [
    "pca.components_"
   ]
  },
  {
   "cell_type": "code",
   "execution_count": 15,
   "metadata": {},
   "outputs": [
    {
     "data": {
      "text/plain": [
       "\n",
       "  2.5000  12.5000 -15.0000\n",
       " 12.5000  62.5000 -75.0000\n",
       "-15.0000 -75.0000  90.0000\n",
       "[torch.FloatTensor of size 3x3]"
      ]
     },
     "execution_count": 15,
     "metadata": {},
     "output_type": "execute_result"
    }
   ],
   "source": [
    "Statistics.cov_matrix(ch.Tensor(X), ch.Tensor(X))"
   ]
  },
  {
   "cell_type": "code",
   "execution_count": 16,
   "metadata": {},
   "outputs": [
    {
     "data": {
      "text/plain": [
       "array([[  2.5       ,  12.49999905, -14.99999619],\n",
       "       [ 12.5       ,  62.49999237, -74.99997711],\n",
       "       [-14.99999714, -74.99997711,  89.99995422]], dtype=float32)"
      ]
     },
     "execution_count": 16,
     "metadata": {},
     "output_type": "execute_result"
    }
   ],
   "source": [
    "pca.get_covariance()"
   ]
  },
  {
   "cell_type": "code",
   "execution_count": null,
   "metadata": {
    "collapsed": true
   },
   "outputs": [],
   "source": []
  }
 ],
 "metadata": {
  "kernelspec": {
   "display_name": "Python 2",
   "language": "python",
   "name": "python2"
  },
  "language_info": {
   "codemirror_mode": {
    "name": "ipython",
    "version": 2
   },
   "file_extension": ".py",
   "mimetype": "text/x-python",
   "name": "python",
   "nbconvert_exporter": "python",
   "pygments_lexer": "ipython2",
   "version": "2.7.12"
  }
 },
 "nbformat": 4,
 "nbformat_minor": 2
}
