{
 "cells": [
  {
   "cell_type": "code",
   "execution_count": 1,
   "metadata": {},
   "outputs": [],
   "source": [
    "import omega as omg\n",
    "import torch as ch\n",
    "import numpy as np\n",
    "import torch\n",
    "from torchvision import datasets, transforms"
   ]
  },
  {
   "cell_type": "code",
   "execution_count": 2,
   "metadata": {
    "collapsed": true
   },
   "outputs": [],
   "source": [
    "x = ch.Tensor([[0, 0],[0, 1],[1, 0], [1, 1]])\n",
    "y = ch.Tensor([[1,0], [0,1], [0,1], [1,0]])\n",
    "train_datax = ch.utils.data.TensorDataset(x, y)"
   ]
  },
  {
   "cell_type": "code",
   "execution_count": 3,
   "metadata": {},
   "outputs": [],
   "source": [
    "nw = omg.nn.NetworkMesh([2, 5, 2])"
   ]
  },
  {
   "cell_type": "code",
   "execution_count": 4,
   "metadata": {},
   "outputs": [
    {
     "name": "stdout",
     "output_type": "stream",
     "text": [
      "Epoch 0: 2/4\n",
      "Epoch 1: 2/4\n",
      "Epoch 2: 2/4\n",
      "Epoch 3: 2/4\n",
      "Epoch 4: 2/4\n",
      "Epoch 5: 2/4\n",
      "Epoch 6: 2/4\n",
      "Epoch 7: 2/4\n",
      "Epoch 8: 3/4\n",
      "Epoch 9: 3/4\n",
      "Epoch 10: 3/4\n",
      "Epoch 11: 3/4\n",
      "Epoch 12: 2/4\n",
      "Epoch 13: 2/4\n",
      "Epoch 14: 2/4\n",
      "Epoch 15: 2/4\n",
      "Epoch 16: 2/4\n",
      "Epoch 17: 2/4\n",
      "Epoch 18: 2/4\n",
      "Epoch 19: 2/4\n",
      "Epoch 20: 2/4\n",
      "Epoch 21: 2/4\n",
      "Epoch 22: 2/4\n",
      "Epoch 23: 2/4\n",
      "Epoch 24: 2/4\n",
      "Epoch 25: 2/4\n",
      "Epoch 26: 2/4\n",
      "Epoch 27: 2/4\n",
      "Epoch 28: 2/4\n",
      "Epoch 29: 2/4\n",
      "Epoch 30: 2/4\n",
      "Epoch 31: 2/4\n",
      "Epoch 32: 2/4\n",
      "Epoch 33: 3/4\n",
      "Epoch 34: 3/4\n",
      "Epoch 35: 3/4\n",
      "Epoch 36: 3/4\n",
      "Epoch 37: 3/4\n",
      "Epoch 38: 3/4\n",
      "Epoch 39: 3/4\n",
      "Epoch 40: 3/4\n",
      "Epoch 41: 3/4\n",
      "Epoch 42: 4/4\n",
      "Epoch 43: 4/4\n",
      "Epoch 44: 4/4\n",
      "Epoch 45: 4/4\n",
      "Epoch 46: 4/4\n",
      "Epoch 47: 4/4\n",
      "Epoch 48: 4/4\n",
      "Epoch 49: 4/4\n"
     ]
    }
   ],
   "source": [
    "nw.SGD(train_data=train_datax, epochs=50, batch_size=4, eta=3, test_data=train_datax)"
   ]
  },
  {
   "cell_type": "code",
   "execution_count": 5,
   "metadata": {
    "collapsed": true
   },
   "outputs": [],
   "source": [
    "train_loader =  datasets.MNIST('../data', train=True, download=True,\n",
    "                   transform=transforms.Compose([\n",
    "                       transforms.ToTensor(),\n",
    "                       transforms.Normalize((0.1307,), (0.3081,))\n",
    "                   ]))\n",
    "test_loader = datasets.MNIST('../data', train=False, transform=transforms.Compose([\n",
    "                       transforms.ToTensor(),\n",
    "                       transforms.Normalize((0.1307,), (0.3081,))\n",
    "                   ]))"
   ]
  },
  {
   "cell_type": "code",
   "execution_count": 6,
   "metadata": {},
   "outputs": [
    {
     "data": {
      "text/plain": [
       "torchvision.datasets.mnist.MNIST"
      ]
     },
     "execution_count": 6,
     "metadata": {},
     "output_type": "execute_result"
    }
   ],
   "source": [
    "type(train_loader)"
   ]
  },
  {
   "cell_type": "code",
   "execution_count": 9,
   "metadata": {},
   "outputs": [],
   "source": [
    "nw = omg.nn.NetworkMesh([784, 30, 10])"
   ]
  },
  {
   "cell_type": "code",
   "execution_count": 10,
   "metadata": {},
   "outputs": [
    {
     "name": "stdout",
     "output_type": "stream",
     "text": [
      "Epoch 0: 8921/10000\n",
      "Epoch 1: 8930/10000\n",
      "Epoch 2: 9107/10000\n",
      "Epoch 3: 9160/10000\n",
      "Epoch 4: 9196/10000\n",
      "Epoch 5: 9256/10000\n",
      "Epoch 6: 9293/10000\n",
      "Epoch 7: 9312/10000\n",
      "Epoch 8: 9307/10000\n",
      "Epoch 9: 9310/10000\n",
      "Epoch 10: 9337/10000\n",
      "Epoch 11: 9258/10000\n",
      "Epoch 12: 9299/10000\n",
      "Epoch 13: 9369/10000\n",
      "Epoch 14: 9337/10000\n",
      "Epoch 15: 9381/10000\n",
      "Epoch 16: 9340/10000\n",
      "Epoch 17: 9364/10000\n",
      "Epoch 18: 9346/10000\n",
      "Epoch 19: 9341/10000\n",
      "Epoch 20: 9346/10000\n",
      "Epoch 21: 9389/10000\n",
      "Epoch 22: 9448/10000\n",
      "Epoch 23: 9402/10000\n",
      "Epoch 24: 9419/10000\n",
      "Epoch 25: 9422/10000\n",
      "Epoch 26: 9413/10000\n",
      "Epoch 27: 9423/10000\n",
      "Epoch 28: 9425/10000\n",
      "Epoch 29: 9451/10000\n"
     ]
    }
   ],
   "source": [
    "nw.SGD(train_data=train_loader, epochs=30, batch_size=10, eta=0.5, test_data=test_loader)"
   ]
  },
  {
   "cell_type": "code",
   "execution_count": null,
   "metadata": {
    "collapsed": true
   },
   "outputs": [],
   "source": []
  }
 ],
 "metadata": {
  "kernelspec": {
   "display_name": "Python 2",
   "language": "python",
   "name": "python2"
  },
  "language_info": {
   "codemirror_mode": {
    "name": "ipython",
    "version": 2
   },
   "file_extension": ".py",
   "mimetype": "text/x-python",
   "name": "python",
   "nbconvert_exporter": "python",
   "pygments_lexer": "ipython2",
   "version": "2.7.14"
  }
 },
 "nbformat": 4,
 "nbformat_minor": 2
}
