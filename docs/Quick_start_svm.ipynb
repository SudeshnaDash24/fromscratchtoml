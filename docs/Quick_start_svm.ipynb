{
 "cells": [
  {
   "cell_type": "code",
   "execution_count": 1,
   "metadata": {},
   "outputs": [],
   "source": [
    "import fromscratchtoml as fs2ml\n",
    "import torch as ch"
   ]
  },
  {
   "cell_type": "code",
   "execution_count": 2,
   "metadata": {},
   "outputs": [],
   "source": [
    "X = ch.Tensor([[8.0, 7], [4, 10], [9, 7], [7, 10],\n",
    "               [9, 6], [4, 8], [10, 10], [2, 7], [8, 3], [7, 5], [4, 4],\n",
    "               [4, 6], [1, 3], [2, 5]])\n",
    "y = ch.Tensor([1, 1, 1, 1, 1, 1, 1,\n",
    "              -1, -1 ,-1, -1, -1, -1, -1])"
   ]
  },
  {
   "cell_type": "code",
   "execution_count": 3,
   "metadata": {},
   "outputs": [
    {
     "name": "stdout",
     "output_type": "stream",
     "text": [
      "torch.Size([14])\n"
     ]
    }
   ],
   "source": [
    "print(y.shape)"
   ]
  },
  {
   "cell_type": "code",
   "execution_count": 4,
   "metadata": {
    "collapsed": true
   },
   "outputs": [],
   "source": [
    "s = fs2ml.svm.SVC()"
   ]
  },
  {
   "cell_type": "code",
   "execution_count": 5,
   "metadata": {},
   "outputs": [],
   "source": [
    "s.fit(X, y)"
   ]
  },
  {
   "cell_type": "code",
   "execution_count": 6,
   "metadata": {},
   "outputs": [
    {
     "name": "stderr",
     "output_type": "stream",
     "text": [
      "INFO:fromscratchtoml.svm.svc:1\n",
      "INFO:fromscratchtoml.svm.svc:1\n",
      "INFO:fromscratchtoml.svm.svc:1\n",
      "INFO:fromscratchtoml.svm.svc:1\n",
      "INFO:fromscratchtoml.svm.svc:1\n",
      "INFO:fromscratchtoml.svm.svc:1\n",
      "INFO:fromscratchtoml.svm.svc:1\n",
      "INFO:fromscratchtoml.svm.svc:-1\n",
      "INFO:fromscratchtoml.svm.svc:-1\n",
      "INFO:fromscratchtoml.svm.svc:-1\n",
      "INFO:fromscratchtoml.svm.svc:-1\n",
      "INFO:fromscratchtoml.svm.svc:-1\n",
      "INFO:fromscratchtoml.svm.svc:-1\n",
      "INFO:fromscratchtoml.svm.svc:-1\n"
     ]
    }
   ],
   "source": [
    "s.predict()"
   ]
  },
  {
   "cell_type": "code",
   "execution_count": null,
   "metadata": {
    "collapsed": true
   },
   "outputs": [],
   "source": []
  }
 ],
 "metadata": {
  "kernelspec": {
   "display_name": "Python 2",
   "language": "python",
   "name": "python2"
  },
  "language_info": {
   "codemirror_mode": {
    "name": "ipython",
    "version": 2
   },
   "file_extension": ".py",
   "mimetype": "text/x-python",
   "name": "python",
   "nbconvert_exporter": "python",
   "pygments_lexer": "ipython2",
   "version": "2.7.14"
  }
 },
 "nbformat": 4,
 "nbformat_minor": 2
}
