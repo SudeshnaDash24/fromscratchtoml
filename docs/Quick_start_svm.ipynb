{
 "cells": [
  {
   "cell_type": "code",
   "execution_count": 1,
   "metadata": {},
   "outputs": [],
   "source": [
    "from fromscratchtoml.models import svm\n",
    "import matplotlib.pyplot as plt\n",
    "import torch as ch"
   ]
  },
  {
   "cell_type": "code",
   "execution_count": 2,
   "metadata": {
    "collapsed": true
   },
   "outputs": [],
   "source": [
    "X = ch.Tensor([[8.0, 7], [4, 10], [9, 7], [7, 10],\n",
    "               [9, 6], [4, 8], [10, 10], [2, 7], [8, 3], [7, 5], [4, 4],\n",
    "               [4, 6], [1, 3], [2, 5]])\n",
    "y = ch.Tensor([1, 1, 1, 1, 1, 1, 1,\n",
    "              -1, -1 ,-1, -1, -1, -1, -1])"
   ]
  },
  {
   "cell_type": "code",
   "execution_count": 3,
   "metadata": {
    "collapsed": true
   },
   "outputs": [],
   "source": [
    "s = svm.SVC()"
   ]
  },
  {
   "cell_type": "code",
   "execution_count": 4,
   "metadata": {
    "collapsed": true
   },
   "outputs": [],
   "source": [
    "s.fit(X, y)"
   ]
  },
  {
   "cell_type": "code",
   "execution_count": 5,
   "metadata": {},
   "outputs": [
    {
     "name": "stderr",
     "output_type": "stream",
     "text": [
      "INFO:fromscratchtoml.models.svm.svc:1\n",
      "INFO:fromscratchtoml.models.svm.svc:1\n",
      "INFO:fromscratchtoml.models.svm.svc:1\n",
      "INFO:fromscratchtoml.models.svm.svc:1\n",
      "INFO:fromscratchtoml.models.svm.svc:1\n",
      "INFO:fromscratchtoml.models.svm.svc:1\n",
      "INFO:fromscratchtoml.models.svm.svc:1\n",
      "INFO:fromscratchtoml.models.svm.svc:-1\n",
      "INFO:fromscratchtoml.models.svm.svc:-1\n",
      "INFO:fromscratchtoml.models.svm.svc:-1\n",
      "INFO:fromscratchtoml.models.svm.svc:-1\n",
      "INFO:fromscratchtoml.models.svm.svc:-1\n",
      "INFO:fromscratchtoml.models.svm.svc:-1\n",
      "INFO:fromscratchtoml.models.svm.svc:-1\n"
     ]
    }
   ],
   "source": [
    "s.predict()"
   ]
  },
  {
   "cell_type": "markdown",
   "metadata": {
    "collapsed": true
   },
   "source": [
    "## Visualizations"
   ]
  },
  {
   "cell_type": "code",
   "execution_count": 6,
   "metadata": {},
   "outputs": [],
   "source": [
    "fig = plt.figure()\n",
    "ax = fig.add_subplot(1,1,1)"
   ]
  },
  {
   "cell_type": "code",
   "execution_count": 7,
   "metadata": {
    "collapsed": true
   },
   "outputs": [],
   "source": [
    "for i in range(7):\n",
    "    ax.scatter(X[i][0], X[i][1], marker='x', color='g')\n",
    "for i in range(7):\n",
    "    ax.scatter(X[7+i][0], X[7+i][1], marker='o', color='m')"
   ]
  },
  {
   "cell_type": "code",
   "execution_count": 8,
   "metadata": {},
   "outputs": [
    {
     "data": {
      "text/plain": [
       "[<matplotlib.lines.Line2D at 0x7f05d51ef150>]"
      ]
     },
     "execution_count": 8,
     "metadata": {},
     "output_type": "execute_result"
    }
   ],
   "source": [
    "c = 0\n",
    "X1 = X.min(dim=0)[0][0]\n",
    "Y1 = -(s.w[0] * X1 + s.b - c) / s.w[1]\n",
    "X2 = X.max(dim=0)[0][0]\n",
    "Y2 = -(s.w[0] * X2 + s.b - c) / s.w[1]\n",
    "ax.plot([X1, X2], [Y1, Y2], 'r--')"
   ]
  },
  {
   "cell_type": "code",
   "execution_count": 9,
   "metadata": {},
   "outputs": [
    {
     "data": {
      "text/plain": [
       "[<matplotlib.lines.Line2D at 0x7f05d51ef210>]"
      ]
     },
     "execution_count": 9,
     "metadata": {},
     "output_type": "execute_result"
    }
   ],
   "source": [
    "c = 1\n",
    "X1 = X.min(dim=0)[0][0]\n",
    "Y1 = -(s.w[0] * X1 + s.b - c) / s.w[1]\n",
    "X2 = X.max(dim=0)[0][0]\n",
    "Y2 = -(s.w[0] * X2 + s.b - c) / s.w[1]\n",
    "ax.plot([X1, X2], [Y1, Y2], 'k')"
   ]
  },
  {
   "cell_type": "code",
   "execution_count": 10,
   "metadata": {},
   "outputs": [
    {
     "data": {
      "text/plain": [
       "[<matplotlib.lines.Line2D at 0x7f05d51ef910>]"
      ]
     },
     "execution_count": 10,
     "metadata": {},
     "output_type": "execute_result"
    }
   ],
   "source": [
    "c = -1\n",
    "X1 = X.min(dim=0)[0][0]\n",
    "Y1 = -(s.w[0] * X1 + s.b - c) / s.w[1]\n",
    "X2 = X.max(dim=0)[0][0]\n",
    "Y2 = -(s.w[0] * X2 + s.b - c) / s.w[1]\n",
    "ax.plot([X1, X2], [Y1, Y2], 'k')"
   ]
  },
  {
   "cell_type": "code",
   "execution_count": 11,
   "metadata": {},
   "outputs": [
    {
     "data": {
      "image/png": "[encoded data removed]",
      "text/plain": [
       "<matplotlib.figure.Figure at 0x7f06106a4390>"
      ]
     },
     "metadata": {},
     "output_type": "display_data"
    }
   ],
   "source": [
    "plt.show()"
   ]
  },
  {
   "cell_type": "code",
   "execution_count": null,
   "metadata": {
    "collapsed": true
   },
   "outputs": [],
   "source": []
  }
 ],
 "metadata": {
  "kernelspec": {
   "display_name": "Python 2",
   "language": "python",
   "name": "python2"
  },
  "language_info": {
   "codemirror_mode": {
    "name": "ipython",
    "version": 2
   },
   "file_extension": ".py",
   "mimetype": "text/x-python",
   "name": "python",
   "nbconvert_exporter": "python",
   "pygments_lexer": "ipython2",
   "version": "2.7.14"
  }
 },
 "nbformat": 4,
 "nbformat_minor": 2
}
