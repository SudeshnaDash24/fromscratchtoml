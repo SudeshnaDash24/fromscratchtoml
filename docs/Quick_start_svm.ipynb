{
 "cells": [
  {
   "cell_type": "code",
   "execution_count": 1,
   "metadata": {},
   "outputs": [],
   "source": [
    "from fromscratchtoml.models import svm\n",
    "import matplotlib.pyplot as plt\n",
    "import torch as ch\n",
    "import numpy as np"
   ]
  },
  {
   "cell_type": "markdown",
   "metadata": {},
   "source": [
    "## Linearly seperable data"
   ]
  },
  {
   "cell_type": "code",
   "execution_count": 2,
   "metadata": {
    "collapsed": true
   },
   "outputs": [],
   "source": [
    "X1 = ch.Tensor([[8, 7], [4, 10], [9, 7], [7, 10],\n",
    "               [9, 6], [4, 8], [10, 10]])\n",
    "\n",
    "X2 = ch.Tensor([[2, 7], [8, 3], [7, 5], [4, 4],\n",
    "               [4, 6], [1, 3], [2, 5]])\n",
    "\n",
    "Y1 = ch.ones(X1.size()[0])\n",
    "Y2 = -ch.ones(X2.size()[0])\n",
    "\n",
    "X = ch.cat((X1, X2))\n",
    "y = ch.cat((Y1, Y2))"
   ]
  },
  {
   "cell_type": "code",
   "execution_count": 3,
   "metadata": {
    "collapsed": true
   },
   "outputs": [],
   "source": [
    "s = svm.SVC(kernel='linear', const=0, degree=1)\n",
    "s.fit(X, y)"
   ]
  },
  {
   "cell_type": "code",
   "execution_count": 4,
   "metadata": {},
   "outputs": [
    {
     "name": "stderr",
     "output_type": "stream",
     "text": [
      "INFO:fromscratchtoml.models.svm.svc:1\n",
      "INFO:fromscratchtoml.models.svm.svc:1\n",
      "INFO:fromscratchtoml.models.svm.svc:1\n",
      "INFO:fromscratchtoml.models.svm.svc:1\n",
      "INFO:fromscratchtoml.models.svm.svc:1\n",
      "INFO:fromscratchtoml.models.svm.svc:1\n",
      "INFO:fromscratchtoml.models.svm.svc:1\n",
      "INFO:fromscratchtoml.models.svm.svc:-1\n",
      "INFO:fromscratchtoml.models.svm.svc:-1\n",
      "INFO:fromscratchtoml.models.svm.svc:-1\n",
      "INFO:fromscratchtoml.models.svm.svc:-1\n",
      "INFO:fromscratchtoml.models.svm.svc:-1\n",
      "INFO:fromscratchtoml.models.svm.svc:-1\n",
      "INFO:fromscratchtoml.models.svm.svc:-1\n"
     ]
    }
   ],
   "source": [
    "for x in X:\n",
    "    s.predict(x)"
   ]
  },
  {
   "cell_type": "markdown",
   "metadata": {
    "collapsed": true
   },
   "source": [
    "## Visualizations"
   ]
  },
  {
   "cell_type": "code",
   "execution_count": 5,
   "metadata": {
    "collapsed": true
   },
   "outputs": [],
   "source": [
    "fig = plt.figure()\n",
    "ax = fig.add_subplot(1,1,1)"
   ]
  },
  {
   "cell_type": "code",
   "execution_count": 6,
   "metadata": {
    "collapsed": true
   },
   "outputs": [],
   "source": [
    "def plot_data(ax, X1, X2):\n",
    "    for i in range(len(X1)):\n",
    "        ax.scatter(X1[i][0], X1[i][1], marker='x', color='g')\n",
    "    for i in range(len(X2)):\n",
    "        ax.scatter(X2[i][0], X2[i][1], marker='o', color='m')"
   ]
  },
  {
   "cell_type": "code",
   "execution_count": 7,
   "metadata": {
    "collapsed": true
   },
   "outputs": [],
   "source": [
    "plot_data(ax, X1, X2)"
   ]
  },
  {
   "cell_type": "code",
   "execution_count": 8,
   "metadata": {
    "collapsed": true
   },
   "outputs": [],
   "source": [
    "import numpy as np"
   ]
  },
  {
   "cell_type": "code",
   "execution_count": 9,
   "metadata": {},
   "outputs": [
    {
     "name": "stderr",
     "output_type": "stream",
     "text": [
      "INFO:fromscratchtoml.models.svm.svc:1\n",
      "INFO:fromscratchtoml.models.svm.svc:1\n",
      "INFO:fromscratchtoml.models.svm.svc:1\n",
      "INFO:fromscratchtoml.models.svm.svc:1\n",
      "INFO:fromscratchtoml.models.svm.svc:1\n",
      "INFO:fromscratchtoml.models.svm.svc:1\n",
      "INFO:fromscratchtoml.models.svm.svc:1\n"
     ]
    }
   ],
   "source": [
    "for x in X1:\n",
    "    s.predict(x)"
   ]
  },
  {
   "cell_type": "code",
   "execution_count": 10,
   "metadata": {},
   "outputs": [
    {
     "name": "stderr",
     "output_type": "stream",
     "text": [
      "INFO:fromscratchtoml.models.svm.svc:-1\n",
      "INFO:fromscratchtoml.models.svm.svc:-1\n",
      "INFO:fromscratchtoml.models.svm.svc:-1\n",
      "INFO:fromscratchtoml.models.svm.svc:-1\n",
      "INFO:fromscratchtoml.models.svm.svc:-1\n",
      "INFO:fromscratchtoml.models.svm.svc:-1\n",
      "INFO:fromscratchtoml.models.svm.svc:-1\n"
     ]
    }
   ],
   "source": [
    "for x in X2:\n",
    "    s.predict(x)"
   ]
  },
  {
   "cell_type": "code",
   "execution_count": 11,
   "metadata": {},
   "outputs": [
    {
     "data": {
      "image/png": "[encoded data removed]",
      "text/plain": [
       "<matplotlib.figure.Figure at 0x7fc178126590>"
      ]
     },
     "metadata": {},
     "output_type": "display_data"
    }
   ],
   "source": [
    "plt.show()"
   ]
  },
  {
   "cell_type": "code",
   "execution_count": 12,
   "metadata": {
    "collapsed": true
   },
   "outputs": [],
   "source": [
    "plt.close('all')"
   ]
  },
  {
   "cell_type": "markdown",
   "metadata": {},
   "source": [
    "## Non linearly seperable data"
   ]
  },
  {
   "cell_type": "code",
   "execution_count": 13,
   "metadata": {
    "collapsed": true
   },
   "outputs": [],
   "source": [
    "X1 = ch.Tensor([[10,10],[6,6],[6,11],[3,15],[12,6],[9,5],[16,3],[11,5]])\n",
    "X2 = ch.Tensor([[3,6],[6,3],[2,9],[9,2],[18,1],[1,18],[1,13],[13,1]])\n",
    "Y1 = ch.ones(X1.size()[0])\n",
    "Y2 = -ch.ones(X1.size()[0])\n",
    "\n",
    "X = ch.cat((X1, X2))\n",
    "y = ch.cat((Y1, Y2))"
   ]
  },
  {
   "cell_type": "code",
   "execution_count": 14,
   "metadata": {
    "collapsed": true
   },
   "outputs": [],
   "source": [
    "fig = plt.figure()\n",
    "ax = fig.add_subplot(1,1,1)\n",
    "plot_data(ax, X1, X2)"
   ]
  },
  {
   "cell_type": "code",
   "execution_count": 15,
   "metadata": {},
   "outputs": [],
   "source": [
    "s = svm.SVC(kernel='polynomial', const=0, degree=2)\n",
    "s.fit(X, y)"
   ]
  },
  {
   "cell_type": "code",
   "execution_count": 16,
   "metadata": {},
   "outputs": [
    {
     "name": "stderr",
     "output_type": "stream",
     "text": [
      "INFO:fromscratchtoml.models.svm.svc:1\n",
      "INFO:fromscratchtoml.models.svm.svc:1\n",
      "INFO:fromscratchtoml.models.svm.svc:1\n",
      "INFO:fromscratchtoml.models.svm.svc:1\n",
      "INFO:fromscratchtoml.models.svm.svc:1\n",
      "INFO:fromscratchtoml.models.svm.svc:1\n",
      "INFO:fromscratchtoml.models.svm.svc:1\n",
      "INFO:fromscratchtoml.models.svm.svc:1\n"
     ]
    }
   ],
   "source": [
    "for x in X1:\n",
    "    s.predict(x)"
   ]
  },
  {
   "cell_type": "code",
   "execution_count": 17,
   "metadata": {},
   "outputs": [
    {
     "name": "stderr",
     "output_type": "stream",
     "text": [
      "INFO:fromscratchtoml.models.svm.svc:-1\n",
      "INFO:fromscratchtoml.models.svm.svc:-1\n",
      "INFO:fromscratchtoml.models.svm.svc:-1\n",
      "INFO:fromscratchtoml.models.svm.svc:-1\n",
      "INFO:fromscratchtoml.models.svm.svc:-1\n",
      "INFO:fromscratchtoml.models.svm.svc:-1\n",
      "INFO:fromscratchtoml.models.svm.svc:-1\n",
      "INFO:fromscratchtoml.models.svm.svc:-1\n"
     ]
    }
   ],
   "source": [
    "for x in X2:\n",
    "    s.predict(x)"
   ]
  },
  {
   "cell_type": "code",
   "execution_count": 18,
   "metadata": {},
   "outputs": [
    {
     "data": {
      "image/png": "[encoded data removed]",
      "text/plain": [
       "<matplotlib.figure.Figure at 0x7fc1758d5b50>"
      ]
     },
     "metadata": {},
     "output_type": "display_data"
    }
   ],
   "source": [
    "plt.show()"
   ]
  },
  {
   "cell_type": "code",
   "execution_count": null,
   "metadata": {
    "collapsed": true
   },
   "outputs": [],
   "source": []
  },
  {
   "cell_type": "code",
   "execution_count": null,
   "metadata": {
    "collapsed": true
   },
   "outputs": [],
   "source": []
  },
  {
   "cell_type": "code",
   "execution_count": null,
   "metadata": {
    "collapsed": true
   },
   "outputs": [],
   "source": []
  },
  {
   "cell_type": "code",
   "execution_count": null,
   "metadata": {
    "collapsed": true
   },
   "outputs": [],
   "source": []
  },
  {
   "cell_type": "code",
   "execution_count": null,
   "metadata": {
    "collapsed": true
   },
   "outputs": [],
   "source": []
  },
  {
   "cell_type": "code",
   "execution_count": null,
   "metadata": {
    "collapsed": true
   },
   "outputs": [],
   "source": []
  },
  {
   "cell_type": "code",
   "execution_count": null,
   "metadata": {
    "collapsed": true
   },
   "outputs": [],
   "source": []
  },
  {
   "cell_type": "code",
   "execution_count": null,
   "metadata": {
    "collapsed": true
   },
   "outputs": [],
   "source": []
  },
  {
   "cell_type": "code",
   "execution_count": null,
   "metadata": {
    "collapsed": true
   },
   "outputs": [],
   "source": []
  },
  {
   "cell_type": "markdown",
   "metadata": {},
   "source": [
    "## RBF"
   ]
  },
  {
   "cell_type": "code",
   "execution_count": 19,
   "metadata": {
    "collapsed": true
   },
   "outputs": [],
   "source": [
    "X1 = ch.Tensor([[10,10],[8,6],[8,10],[8,8],[12,6],[9,5],[11,8],[11,5]])\n",
    "X2 = ch.Tensor([[10,13],[6,5],[6,9],[9,2],[14,8],[12,11],[10,13],[13,4]])\n",
    "Y1 = ch.ones(X1.size()[0])\n",
    "Y2 = -ch.ones(X1.size()[0])\n",
    "\n",
    "X = ch.cat((X1, X2))\n",
    "y = ch.cat((Y1, Y2))"
   ]
  },
  {
   "cell_type": "code",
   "execution_count": null,
   "metadata": {
    "collapsed": true
   },
   "outputs": [],
   "source": []
  },
  {
   "cell_type": "code",
   "execution_count": null,
   "metadata": {
    "collapsed": true
   },
   "outputs": [],
   "source": []
  },
  {
   "cell_type": "code",
   "execution_count": null,
   "metadata": {
    "collapsed": true
   },
   "outputs": [],
   "source": []
  },
  {
   "cell_type": "code",
   "execution_count": null,
   "metadata": {
    "collapsed": true
   },
   "outputs": [],
   "source": []
  },
  {
   "cell_type": "code",
   "execution_count": null,
   "metadata": {
    "collapsed": true
   },
   "outputs": [],
   "source": []
  },
  {
   "cell_type": "code",
   "execution_count": null,
   "metadata": {
    "collapsed": true
   },
   "outputs": [],
   "source": []
  }
 ],
 "metadata": {
  "kernelspec": {
   "display_name": "Python 2",
   "language": "python",
   "name": "python2"
  },
  "language_info": {
   "codemirror_mode": {
    "name": "ipython",
    "version": 2
   },
   "file_extension": ".py",
   "mimetype": "text/x-python",
   "name": "python",
   "nbconvert_exporter": "python",
   "pygments_lexer": "ipython2",
   "version": "2.7.14"
  }
 },
 "nbformat": 4,
 "nbformat_minor": 2
}
