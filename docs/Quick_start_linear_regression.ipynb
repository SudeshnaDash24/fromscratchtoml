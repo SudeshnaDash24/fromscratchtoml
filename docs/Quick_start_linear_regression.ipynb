{
 "cells": [
  {
   "cell_type": "code",
   "execution_count": 1,
   "metadata": {},
   "outputs": [],
   "source": [
    "import torch as ch\n",
    "import omega as omg"
   ]
  },
  {
   "cell_type": "code",
   "execution_count": 2,
   "metadata": {},
   "outputs": [],
   "source": [
    "x = ch.Tensor([[1.0], [2.0], [3.0]])\n",
    "y = ch.Tensor([[2.0], [4.0], [6.0]])\n",
    "test_data = ch.randn(10, 1)"
   ]
  },
  {
   "cell_type": "code",
   "execution_count": 3,
   "metadata": {},
   "outputs": [
    {
     "data": {
      "text/plain": [
       "\n",
       "-0.1096\n",
       "-1.1212\n",
       " 2.0067\n",
       "-0.4900\n",
       " 0.6630\n",
       " 0.7023\n",
       "-0.5308\n",
       " 0.0701\n",
       "-1.5518\n",
       "-0.2854\n",
       "[torch.FloatTensor of size 10x1]"
      ]
     },
     "execution_count": 3,
     "metadata": {},
     "output_type": "execute_result"
    }
   ],
   "source": [
    "test_data"
   ]
  },
  {
   "cell_type": "code",
   "execution_count": 4,
   "metadata": {},
   "outputs": [],
   "source": [
    "lr = omg.linear_regression.LinearRegressionClassifier()\n",
    "lr.fit(x, y, optimizer='Analytical')"
   ]
  },
  {
   "cell_type": "code",
   "execution_count": 5,
   "metadata": {},
   "outputs": [
    {
     "name": "stderr",
     "output_type": "stream",
     "text": [
      "INFO:omega.linear_regression.LinearRegressionClassifier:Predicted value for test_data -0.10963059216737747 bias 0.0 and slope 2.0 is -0.21926118433475494\n",
      "INFO:omega.linear_regression.LinearRegressionClassifier:Predicted value for test_data -1.121178150177002 bias 0.0 and slope 2.0 is -2.242356300354004\n",
      "INFO:omega.linear_regression.LinearRegressionClassifier:Predicted value for test_data 2.006683349609375 bias 0.0 and slope 2.0 is 4.01336669921875\n",
      "INFO:omega.linear_regression.LinearRegressionClassifier:Predicted value for test_data -0.4900365173816681 bias 0.0 and slope 2.0 is -0.9800730347633362\n",
      "INFO:omega.linear_regression.LinearRegressionClassifier:Predicted value for test_data 0.6629530787467957 bias 0.0 and slope 2.0 is 1.3259061574935913\n",
      "INFO:omega.linear_regression.LinearRegressionClassifier:Predicted value for test_data 0.7023396492004395 bias 0.0 and slope 2.0 is 1.404679298400879\n",
      "INFO:omega.linear_regression.LinearRegressionClassifier:Predicted value for test_data -0.5307720899581909 bias 0.0 and slope 2.0 is -1.0615441799163818\n",
      "INFO:omega.linear_regression.LinearRegressionClassifier:Predicted value for test_data 0.07010456174612045 bias 0.0 and slope 2.0 is 0.1402091234922409\n",
      "INFO:omega.linear_regression.LinearRegressionClassifier:Predicted value for test_data -1.5517613887786865 bias 0.0 and slope 2.0 is -3.103522777557373\n",
      "INFO:omega.linear_regression.LinearRegressionClassifier:Predicted value for test_data -0.2854011058807373 bias 0.0 and slope 2.0 is -0.5708022117614746\n"
     ]
    }
   ],
   "source": [
    "lr.predict(test_data)"
   ]
  }
 ],
 "metadata": {
  "kernelspec": {
   "display_name": "Python 3",
   "language": "python",
   "name": "python3"
  },
  "language_info": {
   "codemirror_mode": {
    "name": "ipython",
    "version": 3
   },
   "file_extension": ".py",
   "mimetype": "text/x-python",
   "name": "python",
   "nbconvert_exporter": "python",
   "pygments_lexer": "ipython3",
   "version": "3.5.2"
  }
 },
 "nbformat": 4,
 "nbformat_minor": 2
}
