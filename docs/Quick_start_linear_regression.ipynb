{
 "cells": [
  {
   "cell_type": "code",
   "execution_count": 1,
   "metadata": {},
   "outputs": [],
   "source": [
    "import torch as ch\n",
    "import omega as omg"
   ]
  },
  {
   "cell_type": "code",
   "execution_count": 2,
   "metadata": {},
   "outputs": [],
   "source": [
    "x = ch.Tensor([[1.0], [2.0], [3.0]])\n",
    "y = ch.Tensor([[2.0], [4.0], [6.0]])\n",
    "test_data = ch.randn(10, 1)"
   ]
  },
  {
   "cell_type": "code",
   "execution_count": 3,
   "metadata": {},
   "outputs": [
    {
     "data": {
      "text/plain": [
       "\n",
       "-0.7069\n",
       "-0.6831\n",
       " 0.4875\n",
       " 0.8292\n",
       "-0.8769\n",
       " 0.3705\n",
       " 0.7919\n",
       "-0.5766\n",
       " 0.5603\n",
       " 0.1483\n",
       "[torch.FloatTensor of size 10x1]"
      ]
     },
     "execution_count": 3,
     "metadata": {},
     "output_type": "execute_result"
    }
   ],
   "source": [
    "test_data"
   ]
  },
  {
   "cell_type": "code",
   "execution_count": 4,
   "metadata": {},
   "outputs": [],
   "source": [
    "lr = omg.linear_regression.LinearRegressionClassifier()\n",
    "lr.fit(x, y, optimizer='analytical')"
   ]
  },
  {
   "cell_type": "code",
   "execution_count": 5,
   "metadata": {},
   "outputs": [
    {
     "name": "stderr",
     "output_type": "stream",
     "text": [
      "INFO:omega.linear_regression.LinearRegressionClassifier:Predicted value for test_data -0.7068941593170166 bias 0.0 and slope 2.0 is -1.4137883186340332\n",
      "INFO:omega.linear_regression.LinearRegressionClassifier:Predicted value for test_data -0.6831028461456299 bias 0.0 and slope 2.0 is -1.3662056922912598\n",
      "INFO:omega.linear_regression.LinearRegressionClassifier:Predicted value for test_data 0.48753678798675537 bias 0.0 and slope 2.0 is 0.9750735759735107\n",
      "INFO:omega.linear_regression.LinearRegressionClassifier:Predicted value for test_data 0.8291537165641785 bias 0.0 and slope 2.0 is 1.658307433128357\n",
      "INFO:omega.linear_regression.LinearRegressionClassifier:Predicted value for test_data -0.8769327402114868 bias 0.0 and slope 2.0 is -1.7538654804229736\n",
      "INFO:omega.linear_regression.LinearRegressionClassifier:Predicted value for test_data 0.3705281913280487 bias 0.0 and slope 2.0 is 0.7410563826560974\n",
      "INFO:omega.linear_regression.LinearRegressionClassifier:Predicted value for test_data 0.7919397950172424 bias 0.0 and slope 2.0 is 1.5838795900344849\n",
      "INFO:omega.linear_regression.LinearRegressionClassifier:Predicted value for test_data -0.5765781402587891 bias 0.0 and slope 2.0 is -1.1531562805175781\n",
      "INFO:omega.linear_regression.LinearRegressionClassifier:Predicted value for test_data 0.560309112071991 bias 0.0 and slope 2.0 is 1.120618224143982\n",
      "INFO:omega.linear_regression.LinearRegressionClassifier:Predicted value for test_data 0.14833827316761017 bias 0.0 and slope 2.0 is 0.29667654633522034\n"
     ]
    }
   ],
   "source": [
    "lr.predict(test_data)"
   ]
  }
 ],
 "metadata": {
  "kernelspec": {
   "display_name": "Python 3",
   "language": "python",
   "name": "python3"
  },
  "language_info": {
   "codemirror_mode": {
    "name": "ipython",
    "version": 3
   },
   "file_extension": ".py",
   "mimetype": "text/x-python",
   "name": "python",
   "nbconvert_exporter": "python",
   "pygments_lexer": "ipython3",
   "version": "3.5.2"
  }
 },
 "nbformat": 4,
 "nbformat_minor": 2
}
